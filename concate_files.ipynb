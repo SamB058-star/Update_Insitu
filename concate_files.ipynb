{
 "cells": [
  {
   "cell_type": "code",
   "execution_count": 326,
   "metadata": {},
   "outputs": [
    {
     "data": {
      "text/plain": [
       "'D:\\\\Stations_data\\\\Bani\\\\03_March_20'"
      ]
     },
     "execution_count": 326,
     "metadata": {},
     "output_type": "execute_result"
    }
   ],
   "source": [
    "pwd"
   ]
  },
  {
   "cell_type": "code",
   "execution_count": 327,
   "metadata": {},
   "outputs": [],
   "source": [
    "import pandas as pd\n",
    "import os \n",
    "import glob\n",
    "import numpy as np\n",
    "import matplotlib.pyplot as plot"
   ]
  },
  {
   "cell_type": "code",
   "execution_count": 328,
   "metadata": {},
   "outputs": [],
   "source": [
    "# read all the csv files from the directory and match the file format\n",
    "csv_file_path = 'D:\\\\Stations_data\\\\Bani\\\\03_March_20'\n",
    "os.chdir(csv_file_path)\n"
   ]
  },
  {
   "cell_type": "code",
   "execution_count": 329,
   "metadata": {},
   "outputs": [],
   "source": [
    "colnames=['date', 'S1counts', 'S1SM', 'S1Perm', 'S1Temp', 'S1Volt',\n",
    "       'S2counts', 'S2SM', 'S2Perm', 'S2Temp', 'S2Volt',\n",
    "       'S3counts', 'S3SM', 'S3Perm', 'S3Temp', 'S3Volt',\n",
    "       'S4counts', 'S4SM', 'S4Perm', 'S4Temp', 'S4Volt',\n",
    "       'S5counts', 'S5SM', 'S5Perm', 'S5Temp', 'S5Volt',\n",
    "       'S6counts', 'S6SM', 'S6Perm', 'S6Temp', 'S6Volt',\n",
    "       'S7counts', 'S7SM', 'S7Perm', 'S7Temp', 'S7Volt',\n",
    "       'S8counts', 'S8SM', 'S8Perm', 'S8Temp', 'S8Volt',\n",
    "       'S9counts', 'S9SM', 'S9Perm', 'S9Temp', 'S9Volt',\n",
    "       'S10counts', 'S10SM', 'S10Perm', 'S10Temp', 'S10Volt']"
   ]
  },
  {
   "cell_type": "code",
   "execution_count": 330,
   "metadata": {},
   "outputs": [],
   "source": [
    "# List all CSV files in the working dir\n",
    "file_extension = \".csv\"\n",
    "list_of_files = [i for i in glob.glob(f\"*{file_extension}\")]"
   ]
  },
  {
   "cell_type": "code",
   "execution_count": 331,
   "metadata": {},
   "outputs": [],
   "source": [
    "mydateparser = lambda x: pd.datetime.strptime(x, \"%d.%m.%Y %H:%M:%S\")"
   ]
  },
  {
   "cell_type": "code",
   "execution_count": 332,
   "metadata": {},
   "outputs": [],
   "source": [
    "#df = pd.concat([pd.read_csv(file, delimiter= \",\", engine = 'python', skiprows = 1, skipfooter = 1,\n",
    "#                   delim_whitespace = True,encoding = 'UTF-8', header = None, names = colnames,\n",
    "#                           date_parser = mydateparser)\n",
    "#       for file in list_of_files])"
   ]
  },
  {
   "cell_type": "code",
   "execution_count": 333,
   "metadata": {},
   "outputs": [],
   "source": [
    "df = pd.concat([pd.read_csv(f, sep = ',', skiprows = 1, skipfooter = 2, date_parser = mydateparser, engine = 'python',\n",
    "                 header = None, names = colnames, skip_blank_lines = True, error_bad_lines = False) \n",
    "      for f in list_of_files])"
   ]
  },
  {
   "cell_type": "code",
   "execution_count": 334,
   "metadata": {},
   "outputs": [],
   "source": [
    "df['date'] = pd.to_datetime(df['date'], errors = 'coerce')\n",
    "df = df.dropna(subset=['date'])"
   ]
  },
  {
   "cell_type": "code",
   "execution_count": 335,
   "metadata": {},
   "outputs": [],
   "source": [
    "df.set_index('date', inplace = True)"
   ]
  },
  {
   "cell_type": "code",
   "execution_count": null,
   "metadata": {},
   "outputs": [],
   "source": []
  },
  {
   "cell_type": "code",
   "execution_count": null,
   "metadata": {},
   "outputs": [],
   "source": []
  },
  {
   "cell_type": "code",
   "execution_count": 336,
   "metadata": {},
   "outputs": [],
   "source": [
    "#df.to_csv('raw_march.csv', index = True)"
   ]
  },
  {
   "cell_type": "code",
   "execution_count": 337,
   "metadata": {},
   "outputs": [],
   "source": [
    "#df.describe()"
   ]
  },
  {
   "cell_type": "code",
   "execution_count": null,
   "metadata": {},
   "outputs": [],
   "source": []
  },
  {
   "cell_type": "code",
   "execution_count": null,
   "metadata": {},
   "outputs": [],
   "source": []
  },
  {
   "cell_type": "code",
   "execution_count": null,
   "metadata": {},
   "outputs": [],
   "source": []
  },
  {
   "cell_type": "code",
   "execution_count": null,
   "metadata": {},
   "outputs": [],
   "source": []
  },
  {
   "cell_type": "code",
   "execution_count": null,
   "metadata": {},
   "outputs": [],
   "source": []
  },
  {
   "cell_type": "code",
   "execution_count": null,
   "metadata": {},
   "outputs": [],
   "source": []
  },
  {
   "cell_type": "code",
   "execution_count": 338,
   "metadata": {},
   "outputs": [],
   "source": [
    "#new_df = df.dropna(thresh = 5, inplace = True)\n"
   ]
  },
  {
   "cell_type": "code",
   "execution_count": null,
   "metadata": {},
   "outputs": [],
   "source": []
  },
  {
   "cell_type": "code",
   "execution_count": null,
   "metadata": {},
   "outputs": [],
   "source": []
  },
  {
   "cell_type": "code",
   "execution_count": 339,
   "metadata": {},
   "outputs": [],
   "source": [
    "#new_df.to_csv('March_concate.csv', index = True)"
   ]
  },
  {
   "cell_type": "code",
   "execution_count": 340,
   "metadata": {},
   "outputs": [],
   "source": [
    "#March_concate = pd.read_csv('March_concate.csv', sep = ',', index_col = 'date')\n",
    "#March_concate.shape"
   ]
  },
  {
   "cell_type": "code",
   "execution_count": 341,
   "metadata": {},
   "outputs": [],
   "source": [
    "#duplicate_rows_df = March_concate[March_concate.duplicated()]\n",
    "#duplicate_rows_df.shape"
   ]
  },
  {
   "cell_type": "code",
   "execution_count": null,
   "metadata": {},
   "outputs": [],
   "source": []
  },
  {
   "cell_type": "code",
   "execution_count": 342,
   "metadata": {},
   "outputs": [],
   "source": [
    "#cleaned_df = March_concate.drop_duplicates()\n",
    "#cleaned_df.to_csv('March_concate.csv', index = True)"
   ]
  },
  {
   "cell_type": "code",
   "execution_count": 343,
   "metadata": {},
   "outputs": [],
   "source": [
    "#cleaned_df = cleaned_df.fillna(0)"
   ]
  },
  {
   "cell_type": "code",
   "execution_count": 344,
   "metadata": {},
   "outputs": [],
   "source": [
    "#S1counts_gaps = cleaned_df[cleaned_df['S1counts'] == 0]\n",
    "#S1counts_gaps"
   ]
  },
  {
   "cell_type": "code",
   "execution_count": 345,
   "metadata": {},
   "outputs": [
    {
     "data": {
      "text/plain": [
       "(2627, 50)"
      ]
     },
     "execution_count": 345,
     "metadata": {},
     "output_type": "execute_result"
    }
   ],
   "source": [
    "df.shape"
   ]
  },
  {
   "cell_type": "code",
   "execution_count": null,
   "metadata": {},
   "outputs": [],
   "source": []
  },
  {
   "cell_type": "code",
   "execution_count": 346,
   "metadata": {},
   "outputs": [
    {
     "name": "stdout",
     "output_type": "stream",
     "text": [
      "######Shape of the outliers for different sensors######\n",
      "Sensor-1:\n",
      "Sensor-1(SM) : (23, 50)\n",
      "Sensor-1(Perm) : (18, 50)\n",
      "Sensor-1(Temp) : (54, 50)\n",
      "Sensor-1(Volt) : (0, 50)\n",
      "\n",
      "\n",
      "Sensor-2:\n",
      "Sensor-2(SM) : (23, 50)\n",
      "Sensor-2(Perm) : (18, 50)\n",
      "Sensor-2(Temp) : (0, 50)\n",
      "Sensor-2(Volt) : (0, 50)\n",
      "\n",
      "\n",
      "Sensor-3:\n",
      "Sensor-3(SM) : (51, 50)\n",
      "Sensor-3(Perm) : (0, 50)\n",
      "Sensor-3(Temp) : (0, 50)\n",
      "Sensor-3(Volt) : (12, 50)\n",
      "\n",
      "\n",
      "Sensor-4:\n",
      "Sensor-4(SM) : (1, 50)\n",
      "Sensor-4(Perm) : (6, 50)\n",
      "Sensor-4(Temp) : (12, 50)\n",
      "Sensor-4(Volt) : (13, 50)\n",
      "\n",
      "\n",
      "Sensor-5:\n",
      "Sensor-5(SM) : (8, 50)\n",
      "Sensor-5(Perm) : (9, 50)\n",
      "Sensor-5(Temp) : (12, 50)\n",
      "Sensor-5(Volt) : (0, 50)\n",
      "\n",
      "\n",
      "Sensor-6:\n",
      "Sensor-6(SM) : (8, 50)\n",
      "Sensor-6(Perm) : (9, 50)\n",
      "Sensor-6(Temp) : (0, 50)\n",
      "Sensor-6(Volt) : (0, 50)\n",
      "\n",
      "\n",
      "Sensor-7:\n",
      "Sensor-7(SM) : (8, 50)\n",
      "Sensor-7(Perm) : (1, 50)\n",
      "Sensor-7(Temp) : (0, 50)\n",
      "Sensor-7(Volt) : (0, 50)\n",
      "\n",
      "\n",
      "Sensor-8:\n",
      "Sensor-8(SM) : (1, 50)\n",
      "Sensor-8(Perm) : (1, 50)\n",
      "Sensor-8(Temp) : (0, 50)\n",
      "Sensor-8(Volt) : (0, 50)\n",
      "\n",
      "\n",
      "Sensor-9:\n",
      "Sensor-9(SM) : (1, 50)\n",
      "Sensor-9(Perm) : (0, 50)\n",
      "Sensor-9(Temp) : (0, 50)\n",
      "Sensor-9(Volt) : (0, 50)\n",
      "\n",
      "\n",
      "Sensor-10:\n",
      "Sensor-10(SM) : (0, 50)\n",
      "Sensor-10(Perm) : (0, 50)\n",
      "Sensor-10(Temp) : (0, 50)\n",
      "Sensor-10(Volt) : (0, 50)\n",
      "\n",
      "\n",
      "##### Done ! ! ! #####\n"
     ]
    }
   ],
   "source": [
    "#Sensor-1 Filtering\n",
    "S1SM_outer = df[df['S1SM'] > 100]\n",
    "S1Perm_outer = df[df['S1Perm'] > 100]\n",
    "S1Temp_outer = df[df['S1Temp'] > 100]\n",
    "S1Volt_outer = df[df['S1Volt'] > 100]\n",
    "\n",
    "#Sensor-2 Filtering\n",
    "S2SM_outer = df[df['S2SM'] > 100]\n",
    "S2Perm_outer = df[df['S2Perm'] > 100]\n",
    "S2Temp_outer = df[df['S2Temp'] > 100]\n",
    "S2Volt_outer = df[df['S2Volt'] > 100]\n",
    "\n",
    "#Sensor-3 Filtering\n",
    "S3SM_outer = df[df['S3SM'] > 100]\n",
    "S3Perm_outer = df[df['S3Perm'] > 100]\n",
    "S3Temp_outer = df[df['S3Temp'] > 100]\n",
    "S3Volt_outer = df[df['S3Volt'] > 100]\n",
    "\n",
    "#Sensor-4 Filtering\n",
    "S4SM_outer = df[df['S4SM'] > 100]\n",
    "S4Perm_outer = df[df['S4Perm'] > 100]\n",
    "S4Temp_outer = df[df['S4Temp'] > 100]\n",
    "S4Volt_outer = df[df['S4Volt'] > 100]\n",
    "\n",
    "#Sensor-5 Filtering\n",
    "S5SM_outer = df[df['S5SM'] > 100]\n",
    "S5Perm_outer = df[df['S5Perm'] > 100]\n",
    "S5Temp_outer = df[df['S5Temp'] > 100]\n",
    "S5Volt_outer = df[df['S5Volt'] > 100]\n",
    "\n",
    "#Sensor-6 Filtering\n",
    "S6SM_outer = df[df['S6SM'] > 100]\n",
    "S6Perm_outer = df[df['S6Perm'] > 100]\n",
    "S6Temp_outer = df[df['S6Temp'] > 100]\n",
    "S6Volt_outer = df[df['S6Volt'] > 100]\n",
    "\n",
    "#Sensor-7 Filtering\n",
    "S7SM_outer = df[df['S7SM'] > 100]\n",
    "S7Perm_outer = df[df['S7Perm'] > 100]\n",
    "S7Temp_outer = df[df['S7Temp'] > 100]\n",
    "S7Volt_outer = df[df['S7Volt'] > 100]\n",
    "\n",
    "#Sensor-8 Filtering\n",
    "S8SM_outer = df[df['S8SM'] > 100]\n",
    "S8Perm_outer = df[df['S8Perm'] > 100]\n",
    "S8Temp_outer = df[df['S8Temp'] > 100]\n",
    "S8Volt_outer = df[df['S8Volt'] > 100]\n",
    "\n",
    "#Sensor-9 Filtering\n",
    "S9SM_outer = df[df['S9SM'] > 100]\n",
    "S9Perm_outer = df[df['S9Perm'] > 100]\n",
    "S9Temp_outer = df[df['S9Temp'] > 100]\n",
    "S9Volt_outer = df[df['S9Volt'] > 100]\n",
    "\n",
    "#Sensor-10 Filtering\n",
    "S10SM_outer = df[df['S10SM'] > 100]\n",
    "S10Perm_outer = df[df['S10Perm'] > 100]\n",
    "S10Temp_outer = df[df['S10Temp'] > 100]\n",
    "S10Volt_outer = df[df['S10Volt'] > 100]\n",
    "\n",
    "#Printing the shape of the Outer for every columns\n",
    "print('######Shape of the outliers for different sensors######')\n",
    "print('Sensor-1:')\n",
    "print(\"Sensor-1(SM) :\",S1SM_outer.shape)\n",
    "print(\"Sensor-1(Perm) :\", S1Perm_outer.shape)\n",
    "print(\"Sensor-1(Temp) :\", S1Temp_outer.shape)\n",
    "print(\"Sensor-1(Volt) :\", S1Volt_outer.shape)\n",
    "print('\\n')\n",
    "\n",
    "#2nd\n",
    "print('Sensor-2:')\n",
    "print(\"Sensor-2(SM) :\",S2SM_outer.shape)\n",
    "print(\"Sensor-2(Perm) :\", S2Perm_outer.shape)\n",
    "print(\"Sensor-2(Temp) :\", S2Temp_outer.shape)\n",
    "print(\"Sensor-2(Volt) :\", S2Volt_outer.shape)\n",
    "print('\\n')\n",
    "\n",
    "#3rd\n",
    "print('Sensor-3:')\n",
    "print(\"Sensor-3(SM) :\",S3SM_outer.shape)\n",
    "print(\"Sensor-3(Perm) :\", S3Perm_outer.shape)\n",
    "print(\"Sensor-3(Temp) :\", S3Temp_outer.shape)\n",
    "print(\"Sensor-3(Volt) :\", S3Volt_outer.shape)\n",
    "print('\\n')\n",
    "\n",
    "#4th\n",
    "print('Sensor-4:')\n",
    "print(\"Sensor-4(SM) :\",S4SM_outer.shape)\n",
    "print(\"Sensor-4(Perm) :\", S4Perm_outer.shape)\n",
    "print(\"Sensor-4(Temp) :\", S4Temp_outer.shape)\n",
    "print(\"Sensor-4(Volt) :\", S4Volt_outer.shape)\n",
    "print('\\n')\n",
    "\n",
    "#5th\n",
    "print('Sensor-5:')\n",
    "print(\"Sensor-5(SM) :\",S5SM_outer.shape)\n",
    "print(\"Sensor-5(Perm) :\", S5Perm_outer.shape)\n",
    "print(\"Sensor-5(Temp) :\", S5Temp_outer.shape)\n",
    "print(\"Sensor-5(Volt) :\", S5Volt_outer.shape)\n",
    "print('\\n')\n",
    "\n",
    "#6th\n",
    "print('Sensor-6:')\n",
    "print(\"Sensor-6(SM) :\",S6SM_outer.shape)\n",
    "print(\"Sensor-6(Perm) :\", S6Perm_outer.shape)\n",
    "print(\"Sensor-6(Temp) :\", S6Temp_outer.shape)\n",
    "print(\"Sensor-6(Volt) :\", S6Volt_outer.shape)\n",
    "print('\\n')\n",
    "\n",
    "#7th\n",
    "print('Sensor-7:')\n",
    "print(\"Sensor-7(SM) :\",S7SM_outer.shape)\n",
    "print(\"Sensor-7(Perm) :\", S7Perm_outer.shape)\n",
    "print(\"Sensor-7(Temp) :\", S7Temp_outer.shape)\n",
    "print(\"Sensor-7(Volt) :\", S7Volt_outer.shape)\n",
    "print('\\n')\n",
    "\n",
    "#8th\n",
    "print('Sensor-8:')\n",
    "print(\"Sensor-8(SM) :\",S8SM_outer.shape)\n",
    "print(\"Sensor-8(Perm) :\", S8Perm_outer.shape)\n",
    "print(\"Sensor-8(Temp) :\", S8Temp_outer.shape)\n",
    "print(\"Sensor-8(Volt) :\", S8Volt_outer.shape)\n",
    "print('\\n')\n",
    "\n",
    "#9th\n",
    "print('Sensor-9:')\n",
    "print(\"Sensor-9(SM) :\",S9SM_outer.shape)\n",
    "print(\"Sensor-9(Perm) :\", S9Perm_outer.shape)\n",
    "print(\"Sensor-9(Temp) :\", S9Temp_outer.shape)\n",
    "print(\"Sensor-9(Volt) :\", S9Volt_outer.shape)\n",
    "print('\\n')\n",
    "\n",
    "#10th\n",
    "print('Sensor-10:')\n",
    "print(\"Sensor-10(SM) :\",S10SM_outer.shape)\n",
    "print(\"Sensor-10(Perm) :\", S10Perm_outer.shape)\n",
    "print(\"Sensor-10(Temp) :\", S10Temp_outer.shape)\n",
    "print(\"Sensor-10(Volt) :\", S10Volt_outer.shape)\n",
    "print('\\n')\n",
    "print('##### Done ! ! ! #####')"
   ]
  },
  {
   "cell_type": "code",
   "execution_count": 347,
   "metadata": {},
   "outputs": [
    {
     "data": {
      "text/plain": [
       "(105,)"
      ]
     },
     "execution_count": 347,
     "metadata": {},
     "output_type": "execute_result"
    }
   ],
   "source": [
    "ind_todrop = df[(df['S1SM'] >100) | (df['S1Perm'] >100) | (df['S1Temp'] >100) |\n",
    "                (df['S1Volt'] >100) | (df['S2SM'] >100) | (df['S2Perm'] >100) | (df['S2Temp'] >100)|\n",
    "                (df['S2Volt'] >100) | (df['S2SM'] >100) | (df['S3Perm'] >100) | (df['S3Temp'] >100)|\n",
    "                (df['S3Volt'] >100) | (df['S4SM'] >100) | (df['S4Perm'] >100) | (df['S4Temp'] >100)|\n",
    "                (df['S4Volt'] >100) | (df['S5SM'] >100) | (df['S5Perm'] >100) | (df['S5Temp'] >100)|\n",
    "                (df['S5Volt'] >100) | (df['S6SM'] >100) | (df['S6Perm'] >100) | (df['S6Temp'] >100)|\n",
    "                (df['S6Volt'] >100) | (df['S7SM'] >100) | (df['S7Perm'] >100) | (df['S7Temp'] >100)|\n",
    "                (df['S7Volt'] >100) | (df['S8SM'] >100) | (df['S8Perm'] >100) | (df['S8Temp'] >100)|\n",
    "                (df['S8Volt'] >100) | (df['S9SM'] >100) | (df['S9Perm'] >100) | (df['S9Temp'] >100)|\n",
    "                (df['S9Volt'] >100) | (df['S10SM'] >100) | (df['S10Perm'] >100) | (df['S10Temp'] >100)|\n",
    "                (df['S10Volt'] >100)].index\n",
    "ind_todrop.shape"
   ]
  },
  {
   "cell_type": "code",
   "execution_count": 348,
   "metadata": {},
   "outputs": [],
   "source": [
    "#1st\n",
    "#S1SM_outer['S1counts'] = S1SM_outer['S1SM'].shift(-1, axis = 1)\n",
    "#S1Perm_outer['S1Perm'].shift(-2, axis = 1)\n",
    "#S1Temp_outer['S1Temp'].shift(-3, axis = 1)\n",
    "#S1Volt_outer['S1Volt'].shift(-4, axis = 1)\n",
    "\n",
    "#2nd\n",
    "#S2SM_outer.shift(-1, axis = 1)\n",
    "#S2Perm_outer.shift(-2, axis = 1)\n",
    "#S2Temp_outer.shift(-3, axis = 1)\n",
    "#S2Volt_outer.shift(-4, axis = 1)\n",
    "\n",
    "#3rd\n",
    "#S3SM_outer.shift(-1, axis = 1)\n",
    "#S3Perm_outer.shift(-2, axis = 1)\n",
    "#S3Temp_outer.shift(-3, axis = 1)\n",
    "#S3Volt_outer.shift(-4, axis = 1)\n",
    "\n",
    "#4th\n",
    "#S4SM_outer.shift(-1, axis = 1)\n",
    "#S4Perm_outer.shift(-2, axis = 1)\n",
    "#S4Temp_outer.shift(-3, axis = 1)\n",
    "#S4Volt_outer.shift(-4, axis = 1)\n",
    "\n",
    "#5th\n",
    "#S5SM_outer.shift(-1, axis = 1)\n",
    "#S5Perm_outer.shift(-2, axis = 1)\n",
    "#S5Temp_outer.shift(-3, axis = 1)\n",
    "#S5Volt_outer.shift(-4, axis = 1)\n",
    "\n",
    "#6th\n",
    "#S6SM_outer.shift(-1, axis = 1)\n",
    "#S6Perm_outer.shift(-2, axis = 1)\n",
    "#S6Temp_outer.shift(-3, axis = 1)\n",
    "#S6Volt_outer.shift(-4, axis = 1)\n",
    "\n",
    "#7th\n",
    "#S7SM_outer.shift(-1, axis = 1)\n",
    "#S7Perm_outer.shift(-2, axis = 1)\n",
    "#S7Temp_outer.shift(-3, axis = 1)\n",
    "#S7Volt_outer.shift(-4, axis = 1)\n",
    "\n",
    "#8th\n",
    "#S8SM_outer.shift(-1, axis = 1)\n",
    "#S8Perm_outer.shift(-2, axis = 1)\n",
    "#S8Temp_outer.shift(-3, axis = 1)\n",
    "#S8Volt_outer.shift(-4, axis = 1)\n",
    "\n",
    "#9th\n",
    "#S9SM_outer.shift(-1, axis = 1)\n",
    "#S9Perm_outer.shift(-2, axis = 1)\n",
    "#S9Temp_outer.shift(-3, axis = 1)\n",
    "#S9Volt_outer.shift(-4, axis = 1)\n",
    "\n",
    "#10th\n",
    "#S10SM_outer.shift(-1, axis = 1)\n",
    "#S10Perm_outer.shift(-2, axis = 1)\n",
    "#S10Temp_outer.shift(-3, axis = 1)\n",
    "#S10Volt_outer.shift(-4, axis = 1)"
   ]
  },
  {
   "cell_type": "code",
   "execution_count": 349,
   "metadata": {},
   "outputs": [],
   "source": [
    "#S1SM_outer['S1SM'].shift(-1, axis = 1)"
   ]
  },
  {
   "cell_type": "code",
   "execution_count": null,
   "metadata": {},
   "outputs": [],
   "source": []
  },
  {
   "cell_type": "code",
   "execution_count": null,
   "metadata": {},
   "outputs": [],
   "source": []
  },
  {
   "cell_type": "code",
   "execution_count": 350,
   "metadata": {},
   "outputs": [
    {
     "data": {
      "text/plain": [
       "(2627, 50)"
      ]
     },
     "execution_count": 350,
     "metadata": {},
     "output_type": "execute_result"
    }
   ],
   "source": [
    "#df.dropna(thresh = 5, inplace = True)\n",
    "df.shape"
   ]
  },
  {
   "cell_type": "code",
   "execution_count": 351,
   "metadata": {},
   "outputs": [],
   "source": [
    "#ind_todrop = cleaned_df[(cleaned_df['S1SM'] >100) | (cleaned_df['S1Perm'] >100) | (cleaned_df['S1Temp'] >100)|\n",
    "#                        (cleaned_df['S1Volt'] >100)].index"
   ]
  },
  {
   "cell_type": "code",
   "execution_count": 352,
   "metadata": {},
   "outputs": [],
   "source": [
    "#df.drop(ind_todrop, inplace = True, axis = 0)\n",
    "#print(df.shape)"
   ]
  },
  {
   "cell_type": "code",
   "execution_count": 363,
   "metadata": {},
   "outputs": [
    {
     "ename": "KeyError",
     "evalue": "'S1SM'",
     "output_type": "error",
     "traceback": [
      "\u001b[1;31m---------------------------------------------------------------------------\u001b[0m",
      "\u001b[1;31mParserError\u001b[0m                               Traceback (most recent call last)",
      "\u001b[1;32mpandas\\_libs\\tslibs\\conversion.pyx\u001b[0m in \u001b[0;36mpandas._libs.tslibs.conversion._convert_str_to_tsobject\u001b[1;34m()\u001b[0m\n",
      "\u001b[1;32mpandas\\_libs\\tslibs\\parsing.pyx\u001b[0m in \u001b[0;36mpandas._libs.tslibs.parsing.parse_datetime_string\u001b[1;34m()\u001b[0m\n",
      "\u001b[1;32mC:\\ProgramData\\Anaconda3\\lib\\site-packages\\dateutil\\parser\\_parser.py\u001b[0m in \u001b[0;36mparse\u001b[1;34m(timestr, parserinfo, **kwargs)\u001b[0m\n\u001b[0;32m   1373\u001b[0m     \u001b[1;32melse\u001b[0m\u001b[1;33m:\u001b[0m\u001b[1;33m\u001b[0m\u001b[1;33m\u001b[0m\u001b[0m\n\u001b[1;32m-> 1374\u001b[1;33m         \u001b[1;32mreturn\u001b[0m \u001b[0mDEFAULTPARSER\u001b[0m\u001b[1;33m.\u001b[0m\u001b[0mparse\u001b[0m\u001b[1;33m(\u001b[0m\u001b[0mtimestr\u001b[0m\u001b[1;33m,\u001b[0m \u001b[1;33m**\u001b[0m\u001b[0mkwargs\u001b[0m\u001b[1;33m)\u001b[0m\u001b[1;33m\u001b[0m\u001b[1;33m\u001b[0m\u001b[0m\n\u001b[0m\u001b[0;32m   1375\u001b[0m \u001b[1;33m\u001b[0m\u001b[0m\n",
      "\u001b[1;32mC:\\ProgramData\\Anaconda3\\lib\\site-packages\\dateutil\\parser\\_parser.py\u001b[0m in \u001b[0;36mparse\u001b[1;34m(self, timestr, default, ignoretz, tzinfos, **kwargs)\u001b[0m\n\u001b[0;32m    648\u001b[0m         \u001b[1;32mif\u001b[0m \u001b[0mres\u001b[0m \u001b[1;32mis\u001b[0m \u001b[1;32mNone\u001b[0m\u001b[1;33m:\u001b[0m\u001b[1;33m\u001b[0m\u001b[1;33m\u001b[0m\u001b[0m\n\u001b[1;32m--> 649\u001b[1;33m             \u001b[1;32mraise\u001b[0m \u001b[0mParserError\u001b[0m\u001b[1;33m(\u001b[0m\u001b[1;34m\"Unknown string format: %s\"\u001b[0m\u001b[1;33m,\u001b[0m \u001b[0mtimestr\u001b[0m\u001b[1;33m)\u001b[0m\u001b[1;33m\u001b[0m\u001b[1;33m\u001b[0m\u001b[0m\n\u001b[0m\u001b[0;32m    650\u001b[0m \u001b[1;33m\u001b[0m\u001b[0m\n",
      "\u001b[1;31mParserError\u001b[0m: Unknown string format: S1SM",
      "\nDuring handling of the above exception, another exception occurred:\n",
      "\u001b[1;31mValueError\u001b[0m                                Traceback (most recent call last)",
      "\u001b[1;32mC:\\ProgramData\\Anaconda3\\lib\\site-packages\\pandas\\core\\indexes\\datetimes.py\u001b[0m in \u001b[0;36mget_loc\u001b[1;34m(self, key, method, tolerance)\u001b[0m\n\u001b[0;32m    602\u001b[0m             \u001b[1;32mtry\u001b[0m\u001b[1;33m:\u001b[0m\u001b[1;33m\u001b[0m\u001b[1;33m\u001b[0m\u001b[0m\n\u001b[1;32m--> 603\u001b[1;33m                 \u001b[0mkey\u001b[0m \u001b[1;33m=\u001b[0m \u001b[0mself\u001b[0m\u001b[1;33m.\u001b[0m\u001b[0m_maybe_cast_for_get_loc\u001b[0m\u001b[1;33m(\u001b[0m\u001b[0mkey\u001b[0m\u001b[1;33m)\u001b[0m\u001b[1;33m\u001b[0m\u001b[1;33m\u001b[0m\u001b[0m\n\u001b[0m\u001b[0;32m    604\u001b[0m             \u001b[1;32mexcept\u001b[0m \u001b[0mValueError\u001b[0m \u001b[1;32mas\u001b[0m \u001b[0merr\u001b[0m\u001b[1;33m:\u001b[0m\u001b[1;33m\u001b[0m\u001b[1;33m\u001b[0m\u001b[0m\n",
      "\u001b[1;32mC:\\ProgramData\\Anaconda3\\lib\\site-packages\\pandas\\core\\indexes\\datetimes.py\u001b[0m in \u001b[0;36m_maybe_cast_for_get_loc\u001b[1;34m(self, key)\u001b[0m\n\u001b[0;32m    630\u001b[0m         \u001b[1;31m# needed to localize naive datetimes\u001b[0m\u001b[1;33m\u001b[0m\u001b[1;33m\u001b[0m\u001b[1;33m\u001b[0m\u001b[0m\n\u001b[1;32m--> 631\u001b[1;33m         \u001b[0mkey\u001b[0m \u001b[1;33m=\u001b[0m \u001b[0mTimestamp\u001b[0m\u001b[1;33m(\u001b[0m\u001b[0mkey\u001b[0m\u001b[1;33m)\u001b[0m\u001b[1;33m\u001b[0m\u001b[1;33m\u001b[0m\u001b[0m\n\u001b[0m\u001b[0;32m    632\u001b[0m         \u001b[1;32mif\u001b[0m \u001b[0mkey\u001b[0m\u001b[1;33m.\u001b[0m\u001b[0mtzinfo\u001b[0m \u001b[1;32mis\u001b[0m \u001b[1;32mNone\u001b[0m\u001b[1;33m:\u001b[0m\u001b[1;33m\u001b[0m\u001b[1;33m\u001b[0m\u001b[0m\n",
      "\u001b[1;32mpandas\\_libs\\tslibs\\timestamps.pyx\u001b[0m in \u001b[0;36mpandas._libs.tslibs.timestamps.Timestamp.__new__\u001b[1;34m()\u001b[0m\n",
      "\u001b[1;32mpandas\\_libs\\tslibs\\conversion.pyx\u001b[0m in \u001b[0;36mpandas._libs.tslibs.conversion.convert_to_tsobject\u001b[1;34m()\u001b[0m\n",
      "\u001b[1;32mpandas\\_libs\\tslibs\\conversion.pyx\u001b[0m in \u001b[0;36mpandas._libs.tslibs.conversion._convert_str_to_tsobject\u001b[1;34m()\u001b[0m\n",
      "\u001b[1;31mValueError\u001b[0m: could not convert string to Timestamp",
      "\nThe above exception was the direct cause of the following exception:\n",
      "\u001b[1;31mKeyError\u001b[0m                                  Traceback (most recent call last)",
      "\u001b[1;32m<ipython-input-363-d545f307e60a>\u001b[0m in \u001b[0;36m<module>\u001b[1;34m\u001b[0m\n\u001b[0;32m     86\u001b[0m \u001b[1;33m\u001b[0m\u001b[0m\n\u001b[0;32m     87\u001b[0m \u001b[1;31m#using apply method to run the defination function to entire dataframe\u001b[0m\u001b[1;33m\u001b[0m\u001b[1;33m\u001b[0m\u001b[1;33m\u001b[0m\u001b[0m\n\u001b[1;32m---> 88\u001b[1;33m \u001b[0mdf\u001b[0m\u001b[1;33m.\u001b[0m\u001b[0mapply\u001b[0m\u001b[1;33m(\u001b[0m\u001b[0mf\u001b[0m\u001b[1;33m,\u001b[0m \u001b[0maxis\u001b[0m \u001b[1;33m=\u001b[0m \u001b[1;36m0\u001b[0m\u001b[1;33m)\u001b[0m\u001b[1;33m\u001b[0m\u001b[1;33m\u001b[0m\u001b[0m\n\u001b[0m",
      "\u001b[1;32mC:\\ProgramData\\Anaconda3\\lib\\site-packages\\pandas\\core\\frame.py\u001b[0m in \u001b[0;36mapply\u001b[1;34m(self, func, axis, raw, result_type, args, **kwds)\u001b[0m\n\u001b[0;32m   7546\u001b[0m             \u001b[0mkwds\u001b[0m\u001b[1;33m=\u001b[0m\u001b[0mkwds\u001b[0m\u001b[1;33m,\u001b[0m\u001b[1;33m\u001b[0m\u001b[1;33m\u001b[0m\u001b[0m\n\u001b[0;32m   7547\u001b[0m         )\n\u001b[1;32m-> 7548\u001b[1;33m         \u001b[1;32mreturn\u001b[0m \u001b[0mop\u001b[0m\u001b[1;33m.\u001b[0m\u001b[0mget_result\u001b[0m\u001b[1;33m(\u001b[0m\u001b[1;33m)\u001b[0m\u001b[1;33m\u001b[0m\u001b[1;33m\u001b[0m\u001b[0m\n\u001b[0m\u001b[0;32m   7549\u001b[0m \u001b[1;33m\u001b[0m\u001b[0m\n\u001b[0;32m   7550\u001b[0m     \u001b[1;32mdef\u001b[0m \u001b[0mapplymap\u001b[0m\u001b[1;33m(\u001b[0m\u001b[0mself\u001b[0m\u001b[1;33m,\u001b[0m \u001b[0mfunc\u001b[0m\u001b[1;33m)\u001b[0m \u001b[1;33m->\u001b[0m \u001b[1;34m\"DataFrame\"\u001b[0m\u001b[1;33m:\u001b[0m\u001b[1;33m\u001b[0m\u001b[1;33m\u001b[0m\u001b[0m\n",
      "\u001b[1;32mC:\\ProgramData\\Anaconda3\\lib\\site-packages\\pandas\\core\\apply.py\u001b[0m in \u001b[0;36mget_result\u001b[1;34m(self)\u001b[0m\n\u001b[0;32m    178\u001b[0m             \u001b[1;32mreturn\u001b[0m \u001b[0mself\u001b[0m\u001b[1;33m.\u001b[0m\u001b[0mapply_raw\u001b[0m\u001b[1;33m(\u001b[0m\u001b[1;33m)\u001b[0m\u001b[1;33m\u001b[0m\u001b[1;33m\u001b[0m\u001b[0m\n\u001b[0;32m    179\u001b[0m \u001b[1;33m\u001b[0m\u001b[0m\n\u001b[1;32m--> 180\u001b[1;33m         \u001b[1;32mreturn\u001b[0m \u001b[0mself\u001b[0m\u001b[1;33m.\u001b[0m\u001b[0mapply_standard\u001b[0m\u001b[1;33m(\u001b[0m\u001b[1;33m)\u001b[0m\u001b[1;33m\u001b[0m\u001b[1;33m\u001b[0m\u001b[0m\n\u001b[0m\u001b[0;32m    181\u001b[0m \u001b[1;33m\u001b[0m\u001b[0m\n\u001b[0;32m    182\u001b[0m     \u001b[1;32mdef\u001b[0m \u001b[0mapply_empty_result\u001b[0m\u001b[1;33m(\u001b[0m\u001b[0mself\u001b[0m\u001b[1;33m)\u001b[0m\u001b[1;33m:\u001b[0m\u001b[1;33m\u001b[0m\u001b[1;33m\u001b[0m\u001b[0m\n",
      "\u001b[1;32mC:\\ProgramData\\Anaconda3\\lib\\site-packages\\pandas\\core\\apply.py\u001b[0m in \u001b[0;36mapply_standard\u001b[1;34m(self)\u001b[0m\n\u001b[0;32m    269\u001b[0m \u001b[1;33m\u001b[0m\u001b[0m\n\u001b[0;32m    270\u001b[0m     \u001b[1;32mdef\u001b[0m \u001b[0mapply_standard\u001b[0m\u001b[1;33m(\u001b[0m\u001b[0mself\u001b[0m\u001b[1;33m)\u001b[0m\u001b[1;33m:\u001b[0m\u001b[1;33m\u001b[0m\u001b[1;33m\u001b[0m\u001b[0m\n\u001b[1;32m--> 271\u001b[1;33m         \u001b[0mresults\u001b[0m\u001b[1;33m,\u001b[0m \u001b[0mres_index\u001b[0m \u001b[1;33m=\u001b[0m \u001b[0mself\u001b[0m\u001b[1;33m.\u001b[0m\u001b[0mapply_series_generator\u001b[0m\u001b[1;33m(\u001b[0m\u001b[1;33m)\u001b[0m\u001b[1;33m\u001b[0m\u001b[1;33m\u001b[0m\u001b[0m\n\u001b[0m\u001b[0;32m    272\u001b[0m \u001b[1;33m\u001b[0m\u001b[0m\n\u001b[0;32m    273\u001b[0m         \u001b[1;31m# wrap results\u001b[0m\u001b[1;33m\u001b[0m\u001b[1;33m\u001b[0m\u001b[1;33m\u001b[0m\u001b[0m\n",
      "\u001b[1;32mC:\\ProgramData\\Anaconda3\\lib\\site-packages\\pandas\\core\\apply.py\u001b[0m in \u001b[0;36mapply_series_generator\u001b[1;34m(self)\u001b[0m\n\u001b[0;32m    298\u001b[0m                 \u001b[1;32mfor\u001b[0m \u001b[0mi\u001b[0m\u001b[1;33m,\u001b[0m \u001b[0mv\u001b[0m \u001b[1;32min\u001b[0m \u001b[0menumerate\u001b[0m\u001b[1;33m(\u001b[0m\u001b[0mseries_gen\u001b[0m\u001b[1;33m)\u001b[0m\u001b[1;33m:\u001b[0m\u001b[1;33m\u001b[0m\u001b[1;33m\u001b[0m\u001b[0m\n\u001b[0;32m    299\u001b[0m                     \u001b[1;31m# ignore SettingWithCopy here in case the user mutates\u001b[0m\u001b[1;33m\u001b[0m\u001b[1;33m\u001b[0m\u001b[1;33m\u001b[0m\u001b[0m\n\u001b[1;32m--> 300\u001b[1;33m                     \u001b[0mresults\u001b[0m\u001b[1;33m[\u001b[0m\u001b[0mi\u001b[0m\u001b[1;33m]\u001b[0m \u001b[1;33m=\u001b[0m \u001b[0mself\u001b[0m\u001b[1;33m.\u001b[0m\u001b[0mf\u001b[0m\u001b[1;33m(\u001b[0m\u001b[0mv\u001b[0m\u001b[1;33m)\u001b[0m\u001b[1;33m\u001b[0m\u001b[1;33m\u001b[0m\u001b[0m\n\u001b[0m\u001b[0;32m    301\u001b[0m                     \u001b[1;32mif\u001b[0m \u001b[0misinstance\u001b[0m\u001b[1;33m(\u001b[0m\u001b[0mresults\u001b[0m\u001b[1;33m[\u001b[0m\u001b[0mi\u001b[0m\u001b[1;33m]\u001b[0m\u001b[1;33m,\u001b[0m \u001b[0mABCSeries\u001b[0m\u001b[1;33m)\u001b[0m\u001b[1;33m:\u001b[0m\u001b[1;33m\u001b[0m\u001b[1;33m\u001b[0m\u001b[0m\n\u001b[0;32m    302\u001b[0m                         \u001b[1;31m# If we have a view on v, we need to make a copy because\u001b[0m\u001b[1;33m\u001b[0m\u001b[1;33m\u001b[0m\u001b[1;33m\u001b[0m\u001b[0m\n",
      "\u001b[1;32m<ipython-input-363-d545f307e60a>\u001b[0m in \u001b[0;36mf\u001b[1;34m(row)\u001b[0m\n\u001b[0;32m      1\u001b[0m \u001b[1;31m# def function to filter rows of multiple columns\u001b[0m\u001b[1;33m\u001b[0m\u001b[1;33m\u001b[0m\u001b[1;33m\u001b[0m\u001b[0m\n\u001b[0;32m      2\u001b[0m \u001b[1;32mdef\u001b[0m \u001b[0mf\u001b[0m\u001b[1;33m(\u001b[0m\u001b[0mrow\u001b[0m\u001b[1;33m)\u001b[0m\u001b[1;33m:\u001b[0m\u001b[1;33m\u001b[0m\u001b[1;33m\u001b[0m\u001b[0m\n\u001b[1;32m----> 3\u001b[1;33m     \u001b[1;32mif\u001b[0m \u001b[0mrow\u001b[0m\u001b[1;33m[\u001b[0m\u001b[1;34m'S1SM'\u001b[0m\u001b[1;33m]\u001b[0m \u001b[1;33m>\u001b[0m \u001b[1;36m100\u001b[0m\u001b[1;33m:\u001b[0m\u001b[1;33m\u001b[0m\u001b[1;33m\u001b[0m\u001b[0m\n\u001b[0m\u001b[0;32m      4\u001b[0m         \u001b[0mdf\u001b[0m\u001b[1;33m[\u001b[0m\u001b[1;34m'S1SM'\u001b[0m\u001b[1;33m]\u001b[0m\u001b[1;33m.\u001b[0m\u001b[0mshift\u001b[0m\u001b[1;33m(\u001b[0m\u001b[1;33m-\u001b[0m\u001b[1;36m1\u001b[0m\u001b[1;33m,\u001b[0m \u001b[0maxis\u001b[0m \u001b[1;33m=\u001b[0m \u001b[1;36m1\u001b[0m\u001b[1;33m)\u001b[0m\u001b[1;33m\u001b[0m\u001b[1;33m\u001b[0m\u001b[0m\n\u001b[0;32m      5\u001b[0m     \u001b[1;32melif\u001b[0m \u001b[0mrow\u001b[0m\u001b[1;33m[\u001b[0m\u001b[1;34m'S1Perm'\u001b[0m\u001b[1;33m]\u001b[0m \u001b[1;33m>\u001b[0m \u001b[1;36m100\u001b[0m\u001b[1;33m:\u001b[0m\u001b[1;33m\u001b[0m\u001b[1;33m\u001b[0m\u001b[0m\n",
      "\u001b[1;32mC:\\ProgramData\\Anaconda3\\lib\\site-packages\\pandas\\core\\series.py\u001b[0m in \u001b[0;36m__getitem__\u001b[1;34m(self, key)\u001b[0m\n\u001b[0;32m    880\u001b[0m \u001b[1;33m\u001b[0m\u001b[0m\n\u001b[0;32m    881\u001b[0m         \u001b[1;32melif\u001b[0m \u001b[0mkey_is_scalar\u001b[0m\u001b[1;33m:\u001b[0m\u001b[1;33m\u001b[0m\u001b[1;33m\u001b[0m\u001b[0m\n\u001b[1;32m--> 882\u001b[1;33m             \u001b[1;32mreturn\u001b[0m \u001b[0mself\u001b[0m\u001b[1;33m.\u001b[0m\u001b[0m_get_value\u001b[0m\u001b[1;33m(\u001b[0m\u001b[0mkey\u001b[0m\u001b[1;33m)\u001b[0m\u001b[1;33m\u001b[0m\u001b[1;33m\u001b[0m\u001b[0m\n\u001b[0m\u001b[0;32m    883\u001b[0m \u001b[1;33m\u001b[0m\u001b[0m\n\u001b[0;32m    884\u001b[0m         \u001b[1;32mif\u001b[0m \u001b[0mis_hashable\u001b[0m\u001b[1;33m(\u001b[0m\u001b[0mkey\u001b[0m\u001b[1;33m)\u001b[0m\u001b[1;33m:\u001b[0m\u001b[1;33m\u001b[0m\u001b[1;33m\u001b[0m\u001b[0m\n",
      "\u001b[1;32mC:\\ProgramData\\Anaconda3\\lib\\site-packages\\pandas\\core\\series.py\u001b[0m in \u001b[0;36m_get_value\u001b[1;34m(self, label, takeable)\u001b[0m\n\u001b[0;32m    987\u001b[0m \u001b[1;33m\u001b[0m\u001b[0m\n\u001b[0;32m    988\u001b[0m         \u001b[1;31m# Similar to Index.get_value, but we do not fall back to positional\u001b[0m\u001b[1;33m\u001b[0m\u001b[1;33m\u001b[0m\u001b[1;33m\u001b[0m\u001b[0m\n\u001b[1;32m--> 989\u001b[1;33m         \u001b[0mloc\u001b[0m \u001b[1;33m=\u001b[0m \u001b[0mself\u001b[0m\u001b[1;33m.\u001b[0m\u001b[0mindex\u001b[0m\u001b[1;33m.\u001b[0m\u001b[0mget_loc\u001b[0m\u001b[1;33m(\u001b[0m\u001b[0mlabel\u001b[0m\u001b[1;33m)\u001b[0m\u001b[1;33m\u001b[0m\u001b[1;33m\u001b[0m\u001b[0m\n\u001b[0m\u001b[0;32m    990\u001b[0m         \u001b[1;32mreturn\u001b[0m \u001b[0mself\u001b[0m\u001b[1;33m.\u001b[0m\u001b[0mindex\u001b[0m\u001b[1;33m.\u001b[0m\u001b[0m_get_values_for_loc\u001b[0m\u001b[1;33m(\u001b[0m\u001b[0mself\u001b[0m\u001b[1;33m,\u001b[0m \u001b[0mloc\u001b[0m\u001b[1;33m,\u001b[0m \u001b[0mlabel\u001b[0m\u001b[1;33m)\u001b[0m\u001b[1;33m\u001b[0m\u001b[1;33m\u001b[0m\u001b[0m\n\u001b[0;32m    991\u001b[0m \u001b[1;33m\u001b[0m\u001b[0m\n",
      "\u001b[1;32mC:\\ProgramData\\Anaconda3\\lib\\site-packages\\pandas\\core\\indexes\\datetimes.py\u001b[0m in \u001b[0;36mget_loc\u001b[1;34m(self, key, method, tolerance)\u001b[0m\n\u001b[0;32m    603\u001b[0m                 \u001b[0mkey\u001b[0m \u001b[1;33m=\u001b[0m \u001b[0mself\u001b[0m\u001b[1;33m.\u001b[0m\u001b[0m_maybe_cast_for_get_loc\u001b[0m\u001b[1;33m(\u001b[0m\u001b[0mkey\u001b[0m\u001b[1;33m)\u001b[0m\u001b[1;33m\u001b[0m\u001b[1;33m\u001b[0m\u001b[0m\n\u001b[0;32m    604\u001b[0m             \u001b[1;32mexcept\u001b[0m \u001b[0mValueError\u001b[0m \u001b[1;32mas\u001b[0m \u001b[0merr\u001b[0m\u001b[1;33m:\u001b[0m\u001b[1;33m\u001b[0m\u001b[1;33m\u001b[0m\u001b[0m\n\u001b[1;32m--> 605\u001b[1;33m                 \u001b[1;32mraise\u001b[0m \u001b[0mKeyError\u001b[0m\u001b[1;33m(\u001b[0m\u001b[0mkey\u001b[0m\u001b[1;33m)\u001b[0m \u001b[1;32mfrom\u001b[0m \u001b[0merr\u001b[0m\u001b[1;33m\u001b[0m\u001b[1;33m\u001b[0m\u001b[0m\n\u001b[0m\u001b[0;32m    606\u001b[0m \u001b[1;33m\u001b[0m\u001b[0m\n\u001b[0;32m    607\u001b[0m         \u001b[1;32melif\u001b[0m \u001b[0misinstance\u001b[0m\u001b[1;33m(\u001b[0m\u001b[0mkey\u001b[0m\u001b[1;33m,\u001b[0m \u001b[0mtimedelta\u001b[0m\u001b[1;33m)\u001b[0m\u001b[1;33m:\u001b[0m\u001b[1;33m\u001b[0m\u001b[1;33m\u001b[0m\u001b[0m\n",
      "\u001b[1;31mKeyError\u001b[0m: 'S1SM'"
     ]
    }
   ],
   "source": [
    "# def function to filter rows of multiple columns\n",
    "def f(row):\n",
    "    if row['S1SM'] > 100:\n",
    "        df['S1SM'].shift(-1, axis = 1)\n",
    "    elif row['S1Perm'] > 100:\n",
    "        df['S1Perm'].shift(-2, axis = 1)\n",
    "    elif row['S1Temp'] > 100:\n",
    "        df['S1Temp'].shift(-3, axis = 1)\n",
    "    elif row['S1Volt'] > 100:\n",
    "        df['S1Volt'].shift(-4, axis = 1)\n",
    "    elif row['S2SM'] > 100:\n",
    "        df['S2SM'].shift(-1, axis = 1)\n",
    "    elif row['S1Perm'] > 100:\n",
    "        df['S2Perm'].shift(-2, axis = 1)\n",
    "    elif row['S2Temp'] > 100:\n",
    "        df['S2Temp'].shift(-3, axis = 1)\n",
    "    elif row['S1Volt'] > 100:\n",
    "        df['S2Volt'].shift(-4, axis = 1)\n",
    "    elif row['S3SM'] > 100:\n",
    "        df['S3SM'].shift(-1, axis = 1)\n",
    "    elif row['S3Perm'] > 100:\n",
    "        df['S3Perm'].shift(-2, axis = 1)\n",
    "    elif row['S3Temp'] > 100:\n",
    "        df['S3Temp'].shift(-3, axis = 1)\n",
    "    elif row['S3Volt'] > 100:\n",
    "        df['S3Volt'].shift(-4, axis = 1)\n",
    "    elif row['S4SM'] > 100:\n",
    "        df['S4SM'].shift(-1, axis = 1)\n",
    "    elif row['S3Perm'] > 100:\n",
    "        df['S4Perm'].shift(-2, axis = 1)\n",
    "    elif row['S4Temp'] > 100:\n",
    "        df['S4Temp'].shift(-3, axis = 1)\n",
    "    elif row['S4Volt'] > 100:\n",
    "        df['S4Volt'].shift(-4, axis = 1)\n",
    "    elif row['S5SM'] > 100:\n",
    "        df['S5SM'].shift(-1, axis = 1)\n",
    "    elif row['S5Perm'] > 100:\n",
    "        df['S5Perm'].shift(-2, axis = 1)\n",
    "    elif row['S5Temp'] > 100:\n",
    "        df['S5Temp'].shift(-3, axis = 1)\n",
    "    elif row['S5Volt'] > 100:\n",
    "        df['S5Volt'].shift(-4, axis = 1)\n",
    "    elif row['S6SM'] > 100:\n",
    "        df['S6SM'].shift(-1, axis = 1)\n",
    "    elif row['S6Perm'] > 100:\n",
    "        df['S6Perm'].shift(-2, axis = 1)\n",
    "    elif row['S6Temp'] > 100:\n",
    "        df['S6Temp'].shift(-3, axis = 1)\n",
    "    elif row['S6Volt'] > 100:\n",
    "        df['S6Volt'].shift(-4, axis = 1)\n",
    "    elif row['S7SM'] > 100:\n",
    "        df['S7SM'].shift(-1, axis = 1)\n",
    "    elif row['S3Perm'] > 100:\n",
    "        df['S7Perm'].shift(-2, axis = 1)\n",
    "    elif row['S7Temp'] > 100:\n",
    "        df['S7Temp'].shift(-3, axis = 1)\n",
    "    elif row['S7Volt'] > 100:\n",
    "        df['S7Volt'].shift(-4, axis = 1)\n",
    "    elif row['S8SM'] > 100:\n",
    "        df['S8SM'].shift(-1, axis = 1)\n",
    "    elif row['S8Perm'] > 100:\n",
    "        df['S8Perm'].shift(-2, axis = 1)\n",
    "    elif row['S8Temp'] > 100:\n",
    "        df['S8Temp'].shift(-3, axis = 1)\n",
    "    elif row['S8Volt'] > 100:\n",
    "        df['S8Volt'].shift(-4, axis = 1)\n",
    "    elif row['S9SM'] > 100:\n",
    "        df['S9SM'].shift(-1, axis = 1)\n",
    "    elif row['S9Perm'] > 100:\n",
    "        df['S9Perm'].shift(-2, axis = 1)\n",
    "    elif row['S9Temp'] > 100:\n",
    "        df['S9Temp'].shift(-3, axis = 1)\n",
    "    elif row['S9Volt'] > 100:\n",
    "        df['S9Volt'].shift(-4, axis = 1)\n",
    "    elif row['S10SM'] > 100:\n",
    "        df['S10SM'].shift(-1, axis = 1)\n",
    "    elif row['S10Perm'] > 100:\n",
    "        df['S10Perm'].shift(-2, axis = 1)\n",
    "    elif row['S10Temp'] > 100:\n",
    "        df['S10Temp'].shift(-3, axis = 1)\n",
    "    elif row['S10Volt'] > 100:\n",
    "        df['S10Volt'].shift(-4, axis = 1)\n",
    "    else:\n",
    "        df == df\n",
    "    return row\n",
    "\n",
    "#using apply method to run the defination function to entire dataframe\n",
    "df.apply(f, axis = 0)"
   ]
  },
  {
   "cell_type": "code",
   "execution_count": 354,
   "metadata": {},
   "outputs": [],
   "source": [
    "#cleaned_df = df.append([S1SM_outer, S1Perm_outer, S1Temp_outer, S1Volt_outer, S2SM_outer, S2Perm_outer, S2Temp_outer, S2Volt_outer,\n",
    "#                       S3SM_outer, S3Perm_outer, S3Temp_outer, S3Volt_outer, S4SM_outer, S4Perm_outer, S4Temp_outer, S4Volt_outer, \n",
    "#                       S5SM_outer, S5Perm_outer, S5Temp_outer, S5Volt_outer, S6SM_outer, S6Perm_outer, S6Temp_outer, S6Volt_outer, \n",
    "#                       S7SM_outer, S7Perm_outer, S7Temp_outer, S7Volt_outer, S8SM_outer, S8Perm_outer, S8Temp_outer, S8Volt_outer, \n",
    "#                       S9SM_outer, S9Perm_outer, S9Temp_outer, S9Volt_outer, S10SM_outer, S10Perm_outer, S10Temp_outer, S10Volt_outer])\n",
    "#cleaned_df = cleaned_df.drop_duplicates()\n",
    "#cleaned_df = cleaned_df.sort_index()"
   ]
  },
  {
   "cell_type": "code",
   "execution_count": 355,
   "metadata": {},
   "outputs": [
    {
     "data": {
      "text/plain": [
       "2020-03-26 15:58:08    1\n",
       "2020-03-23 11:18:08    1\n",
       "2020-03-27 22:48:08    1\n",
       "2020-03-22 05:58:08    1\n",
       "2020-03-17 06:18:08    1\n",
       "                      ..\n",
       "2020-03-15 01:18:08    1\n",
       "2020-03-25 05:38:08    1\n",
       "2020-03-19 12:48:08    1\n",
       "2020-03-13 19:58:08    1\n",
       "2020-03-21 07:08:08    1\n",
       "Name: date, Length: 2627, dtype: int64"
      ]
     },
     "execution_count": 355,
     "metadata": {},
     "output_type": "execute_result"
    }
   ],
   "source": [
    "df.index.value_counts()"
   ]
  },
  {
   "cell_type": "code",
   "execution_count": 356,
   "metadata": {},
   "outputs": [
    {
     "data": {
      "image/png": "[encoded data removed]",
      "text/plain": [
       "<Figure size 432x288 with 1 Axes>"
      ]
     },
     "metadata": {
      "needs_background": "light"
     },
     "output_type": "display_data"
    }
   ],
   "source": [
    "plot.plot(df.index, df.S1SM);"
   ]
  },
  {
   "cell_type": "code",
   "execution_count": 357,
   "metadata": {},
   "outputs": [],
   "source": [
    "#df.to_csv('check.csv', index = True)"
   ]
  },
  {
   "cell_type": "code",
   "execution_count": 358,
   "metadata": {},
   "outputs": [
    {
     "data": {
      "image/png": "[encoded data removed]",
      "text/plain": [
       "<Figure size 432x288 with 1 Axes>"
      ]
     },
     "metadata": {
      "needs_background": "light"
     },
     "output_type": "display_data"
    }
   ],
   "source": [
    "plot.plot(df.index, df.S2SM);"
   ]
  },
  {
   "cell_type": "code",
   "execution_count": null,
   "metadata": {},
   "outputs": [],
   "source": []
  },
  {
   "cell_type": "code",
   "execution_count": null,
   "metadata": {},
   "outputs": [],
   "source": []
  },
  {
   "cell_type": "code",
   "execution_count": null,
   "metadata": {},
   "outputs": [],
   "source": []
  },
  {
   "cell_type": "code",
   "execution_count": null,
   "metadata": {},
   "outputs": [],
   "source": []
  },
  {
   "cell_type": "code",
   "execution_count": 360,
   "metadata": {},
   "outputs": [],
   "source": [
    "#append to get the cleaned data\n",
    "#cleaned_df = cleaned_df.append(cleaned_SM)\n",
    "#cleaned_df = cleaned_df.append(cleaned_Perm)\n",
    "#cleaned_df = cleaned_df.append(cleaned_Temp)\n",
    "#cleaned_df = cleaned_df.append(cleaned_Volt)\n",
    "#cleaned_df = cleaned_df.sort_index()\n",
    "#cleaned_df.describe()"
   ]
  },
  {
   "cell_type": "code",
   "execution_count": null,
   "metadata": {},
   "outputs": [],
   "source": []
  },
  {
   "cell_type": "code",
   "execution_count": null,
   "metadata": {},
   "outputs": [],
   "source": [
    "#plot.figure(figsize = (20,5))\n",
    "#plot.plot(cleaned_df.index, cleaned_df.S1SM)\n",
    "#plot.xticks(rotation = 90);"
   ]
  },
  {
   "cell_type": "code",
   "execution_count": null,
   "metadata": {},
   "outputs": [],
   "source": [
    "#plot.figure(figsize = (20,5))\n",
    "#plot.plot(cleaned_df.index, cleaned_df.S2SM);"
   ]
  },
  {
   "cell_type": "code",
   "execution_count": null,
   "metadata": {},
   "outputs": [],
   "source": [
    "#plot.figure(figsize = (20,5))\n",
    "#plot.plot(cleaned_df.index, cleaned_df.S3SM);"
   ]
  },
  {
   "cell_type": "code",
   "execution_count": null,
   "metadata": {},
   "outputs": [],
   "source": [
    "#plot.figure(figsize = (20,5))\n",
    "#plot.plot(cleaned_df.index, cleaned_df.S4SM);"
   ]
  },
  {
   "cell_type": "code",
   "execution_count": null,
   "metadata": {},
   "outputs": [],
   "source": [
    "#plot.figure(figsize = (20,5))\n",
    "#plot.plot(cleaned_df.index, cleaned_df.S5SM);\n",
    "#plot.figure(figsize = (20,5))\n",
    "#plot.plot(cleaned_df.index, cleaned_df.S6SM);"
   ]
  },
  {
   "cell_type": "code",
   "execution_count": null,
   "metadata": {},
   "outputs": [],
   "source": []
  }
 ],
 "metadata": {
  "kernelspec": {
   "display_name": "Python 3",
   "language": "python",
   "name": "python3"
  },
  "language_info": {
   "codemirror_mode": {
    "name": "ipython",
    "version": 3
   },
   "file_extension": ".py",
   "mimetype": "text/x-python",
   "name": "python",
   "nbconvert_exporter": "python",
   "pygments_lexer": "ipython3",
   "version": "3.8.5"
  }
 },
 "nbformat": 4,
 "nbformat_minor": 4
}
