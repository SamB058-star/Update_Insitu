{
 "cells": [
  {
   "cell_type": "code",
   "execution_count": 365,
   "metadata": {},
   "outputs": [
    {
     "data": {
      "text/plain": [
       "'D:\\\\Stations_data\\\\Bani\\\\03_March_20'"
      ]
     },
     "execution_count": 365,
     "metadata": {},
     "output_type": "execute_result"
    }
   ],
   "source": [
    "pwd"
   ]
  },
  {
   "cell_type": "code",
   "execution_count": 366,
   "metadata": {},
   "outputs": [],
   "source": [
    "import pandas as pd\n",
    "import os \n",
    "import glob\n",
    "import numpy as np\n",
    "import matplotlib.pyplot as plot"
   ]
  },
  {
   "cell_type": "code",
   "execution_count": 367,
   "metadata": {},
   "outputs": [],
   "source": [
    "# read all the csv files from the directory and match the file format\n",
    "csv_file_path = 'D:\\\\Stations_data\\\\Bani\\\\03_March_20'\n",
    "os.chdir(csv_file_path)\n"
   ]
  },
  {
   "cell_type": "code",
   "execution_count": 368,
   "metadata": {},
   "outputs": [],
   "source": [
    "colnames=['date', 'S1counts', 'S1SM', 'S1Perm', 'S1Temp', 'S1Volt',\n",
    "       'S2counts', 'S2SM', 'S2Perm', 'S2Temp', 'S2Volt',\n",
    "       'S3counts', 'S3SM', 'S3Perm', 'S3Temp', 'S3Volt',\n",
    "       'S4counts', 'S4SM', 'S4Perm', 'S4Temp', 'S4Volt',\n",
    "       'S5counts', 'S5SM', 'S5Perm', 'S5Temp', 'S5Volt',\n",
    "       'S6counts', 'S6SM', 'S6Perm', 'S6Temp', 'S6Volt',\n",
    "       'S7counts', 'S7SM', 'S7Perm', 'S7Temp', 'S7Volt',\n",
    "       'S8counts', 'S8SM', 'S8Perm', 'S8Temp', 'S8Volt',\n",
    "       'S9counts', 'S9SM', 'S9Perm', 'S9Temp', 'S9Volt',\n",
    "       'S10counts', 'S10SM', 'S10Perm', 'S10Temp', 'S10Volt']"
   ]
  },
  {
   "cell_type": "code",
   "execution_count": 369,
   "metadata": {},
   "outputs": [],
   "source": [
    "# List all CSV files in the working dir\n",
    "file_extension = \".csv\"\n",
    "list_of_files = [i for i in glob.glob(f\"*{file_extension}\")]"
   ]
  },
  {
   "cell_type": "code",
   "execution_count": 370,
   "metadata": {},
   "outputs": [],
   "source": [
    "mydateparser = lambda x: pd.datetime.strptime(x, \"%d.%m.%Y %H:%M:%S\")"
   ]
  },
  {
   "cell_type": "code",
   "execution_count": 371,
   "metadata": {},
   "outputs": [],
   "source": [
    "#df = pd.concat([pd.read_csv(file, delimiter= \",\", engine = 'python', skiprows = 1, skipfooter = 1,\n",
    "#                   delim_whitespace = True,encoding = 'UTF-8', header = None, names = colnames,\n",
    "#                           date_parser = mydateparser)\n",
    "#       for file in list_of_files])"
   ]
  },
  {
   "cell_type": "code",
   "execution_count": 372,
   "metadata": {},
   "outputs": [],
   "source": [
    "df = pd.concat([pd.read_csv(f, sep = ',', skiprows = 1, skipfooter = 2, date_parser = mydateparser, engine = 'python',\n",
    "                 header = None, names = colnames, skip_blank_lines = True, error_bad_lines = False) \n",
    "      for f in list_of_files])"
   ]
  },
  {
   "cell_type": "code",
   "execution_count": 373,
   "metadata": {},
   "outputs": [],
   "source": [
    "df['date'] = pd.to_datetime(df['date'], errors = 'coerce')\n",
    "df = df.dropna(subset=['date'])"
   ]
  },
  {
   "cell_type": "code",
   "execution_count": 374,
   "metadata": {},
   "outputs": [],
   "source": [
    "df.set_index('date', inplace = True)\n",
    "#df is ready"
   ]
  },
  {
   "cell_type": "code",
   "execution_count": null,
   "metadata": {},
   "outputs": [],
   "source": []
  },
  {
   "cell_type": "code",
   "execution_count": null,
   "metadata": {},
   "outputs": [],
   "source": []
  },
  {
   "cell_type": "code",
   "execution_count": 375,
   "metadata": {},
   "outputs": [],
   "source": [
    "#df.to_csv('raw_march.csv', index = True)"
   ]
  },
  {
   "cell_type": "code",
   "execution_count": 376,
   "metadata": {},
   "outputs": [],
   "source": [
    "#df.describe()"
   ]
  },
  {
   "cell_type": "code",
   "execution_count": null,
   "metadata": {},
   "outputs": [],
   "source": []
  },
  {
   "cell_type": "code",
   "execution_count": null,
   "metadata": {},
   "outputs": [],
   "source": []
  },
  {
   "cell_type": "code",
   "execution_count": null,
   "metadata": {},
   "outputs": [],
   "source": []
  },
  {
   "cell_type": "code",
   "execution_count": null,
   "metadata": {},
   "outputs": [],
   "source": []
  },
  {
   "cell_type": "code",
   "execution_count": null,
   "metadata": {},
   "outputs": [],
   "source": []
  },
  {
   "cell_type": "code",
   "execution_count": null,
   "metadata": {},
   "outputs": [],
   "source": []
  },
  {
   "cell_type": "code",
   "execution_count": 377,
   "metadata": {},
   "outputs": [],
   "source": [
    "#new_df = df.dropna(thresh = 5, inplace = True)\n"
   ]
  },
  {
   "cell_type": "code",
   "execution_count": null,
   "metadata": {},
   "outputs": [],
   "source": []
  },
  {
   "cell_type": "code",
   "execution_count": null,
   "metadata": {},
   "outputs": [],
   "source": []
  },
  {
   "cell_type": "code",
   "execution_count": 378,
   "metadata": {},
   "outputs": [],
   "source": [
    "#new_df.to_csv('March_concate.csv', index = True)"
   ]
  },
  {
   "cell_type": "code",
   "execution_count": 379,
   "metadata": {},
   "outputs": [],
   "source": [
    "#March_concate = pd.read_csv('March_concate.csv', sep = ',', index_col = 'date')\n",
    "#March_concate.shape"
   ]
  },
  {
   "cell_type": "code",
   "execution_count": 380,
   "metadata": {},
   "outputs": [],
   "source": [
    "#duplicate_rows_df = March_concate[March_concate.duplicated()]\n",
    "#duplicate_rows_df.shape"
   ]
  },
  {
   "cell_type": "code",
   "execution_count": null,
   "metadata": {},
   "outputs": [],
   "source": []
  },
  {
   "cell_type": "code",
   "execution_count": 381,
   "metadata": {},
   "outputs": [],
   "source": [
    "#cleaned_df = March_concate.drop_duplicates()\n",
    "#cleaned_df.to_csv('March_concate.csv', index = True)"
   ]
  },
  {
   "cell_type": "code",
   "execution_count": 382,
   "metadata": {},
   "outputs": [],
   "source": [
    "#cleaned_df = cleaned_df.fillna(0)"
   ]
  },
  {
   "cell_type": "code",
   "execution_count": 383,
   "metadata": {},
   "outputs": [],
   "source": [
    "#S1counts_gaps = cleaned_df[cleaned_df['S1counts'] == 0]\n",
    "#S1counts_gaps"
   ]
  },
  {
   "cell_type": "code",
   "execution_count": 384,
   "metadata": {},
   "outputs": [
    {
     "data": {
      "text/plain": [
       "(2627, 50)"
      ]
     },
     "execution_count": 384,
     "metadata": {},
     "output_type": "execute_result"
    }
   ],
   "source": [
    "df.shape"
   ]
  },
  {
   "cell_type": "code",
   "execution_count": null,
   "metadata": {},
   "outputs": [],
   "source": []
  },
  {
   "cell_type": "code",
   "execution_count": 385,
   "metadata": {},
   "outputs": [
    {
     "name": "stdout",
     "output_type": "stream",
     "text": [
      "######Shape of the outliers for different sensors######\n",
      "Sensor-1:\n",
      "Sensor-1(SM) : (23, 50)\n",
      "Sensor-1(Perm) : (18, 50)\n",
      "Sensor-1(Temp) : (54, 50)\n",
      "Sensor-1(Volt) : (0, 50)\n",
      "\n",
      "\n",
      "Sensor-2:\n",
      "Sensor-2(SM) : (23, 50)\n",
      "Sensor-2(Perm) : (18, 50)\n",
      "Sensor-2(Temp) : (0, 50)\n",
      "Sensor-2(Volt) : (0, 50)\n",
      "\n",
      "\n",
      "Sensor-3:\n",
      "Sensor-3(SM) : (51, 50)\n",
      "Sensor-3(Perm) : (0, 50)\n",
      "Sensor-3(Temp) : (0, 50)\n",
      "Sensor-3(Volt) : (12, 50)\n",
      "\n",
      "\n",
      "Sensor-4:\n",
      "Sensor-4(SM) : (1, 50)\n",
      "Sensor-4(Perm) : (6, 50)\n",
      "Sensor-4(Temp) : (12, 50)\n",
      "Sensor-4(Volt) : (13, 50)\n",
      "\n",
      "\n",
      "Sensor-5:\n",
      "Sensor-5(SM) : (8, 50)\n",
      "Sensor-5(Perm) : (9, 50)\n",
      "Sensor-5(Temp) : (12, 50)\n",
      "Sensor-5(Volt) : (0, 50)\n",
      "\n",
      "\n",
      "Sensor-6:\n",
      "Sensor-6(SM) : (8, 50)\n",
      "Sensor-6(Perm) : (9, 50)\n",
      "Sensor-6(Temp) : (0, 50)\n",
      "Sensor-6(Volt) : (0, 50)\n",
      "\n",
      "\n",
      "Sensor-7:\n",
      "Sensor-7(SM) : (8, 50)\n",
      "Sensor-7(Perm) : (1, 50)\n",
      "Sensor-7(Temp) : (0, 50)\n",
      "Sensor-7(Volt) : (0, 50)\n",
      "\n",
      "\n",
      "Sensor-8:\n",
      "Sensor-8(SM) : (1, 50)\n",
      "Sensor-8(Perm) : (1, 50)\n",
      "Sensor-8(Temp) : (0, 50)\n",
      "Sensor-8(Volt) : (0, 50)\n",
      "\n",
      "\n",
      "Sensor-9:\n",
      "Sensor-9(SM) : (1, 50)\n",
      "Sensor-9(Perm) : (0, 50)\n",
      "Sensor-9(Temp) : (0, 50)\n",
      "Sensor-9(Volt) : (0, 50)\n",
      "\n",
      "\n",
      "Sensor-10:\n",
      "Sensor-10(SM) : (0, 50)\n",
      "Sensor-10(Perm) : (0, 50)\n",
      "Sensor-10(Temp) : (0, 50)\n",
      "Sensor-10(Volt) : (0, 50)\n",
      "\n",
      "\n",
      "##### Done ! ! ! #####\n"
     ]
    }
   ],
   "source": [
    "#Sensor-1 Filtering\n",
    "S1SM_outer = df[df['S1SM'] > 100]\n",
    "S1Perm_outer = df[df['S1Perm'] > 100]\n",
    "S1Temp_outer = df[df['S1Temp'] > 100]\n",
    "S1Volt_outer = df[df['S1Volt'] > 100]\n",
    "\n",
    "#Sensor-2 Filtering\n",
    "S2SM_outer = df[df['S2SM'] > 100]\n",
    "S2Perm_outer = df[df['S2Perm'] > 100]\n",
    "S2Temp_outer = df[df['S2Temp'] > 100]\n",
    "S2Volt_outer = df[df['S2Volt'] > 100]\n",
    "\n",
    "#Sensor-3 Filtering\n",
    "S3SM_outer = df[df['S3SM'] > 100]\n",
    "S3Perm_outer = df[df['S3Perm'] > 100]\n",
    "S3Temp_outer = df[df['S3Temp'] > 100]\n",
    "S3Volt_outer = df[df['S3Volt'] > 100]\n",
    "\n",
    "#Sensor-4 Filtering\n",
    "S4SM_outer = df[df['S4SM'] > 100]\n",
    "S4Perm_outer = df[df['S4Perm'] > 100]\n",
    "S4Temp_outer = df[df['S4Temp'] > 100]\n",
    "S4Volt_outer = df[df['S4Volt'] > 100]\n",
    "\n",
    "#Sensor-5 Filtering\n",
    "S5SM_outer = df[df['S5SM'] > 100]\n",
    "S5Perm_outer = df[df['S5Perm'] > 100]\n",
    "S5Temp_outer = df[df['S5Temp'] > 100]\n",
    "S5Volt_outer = df[df['S5Volt'] > 100]\n",
    "\n",
    "#Sensor-6 Filtering\n",
    "S6SM_outer = df[df['S6SM'] > 100]\n",
    "S6Perm_outer = df[df['S6Perm'] > 100]\n",
    "S6Temp_outer = df[df['S6Temp'] > 100]\n",
    "S6Volt_outer = df[df['S6Volt'] > 100]\n",
    "\n",
    "#Sensor-7 Filtering\n",
    "S7SM_outer = df[df['S7SM'] > 100]\n",
    "S7Perm_outer = df[df['S7Perm'] > 100]\n",
    "S7Temp_outer = df[df['S7Temp'] > 100]\n",
    "S7Volt_outer = df[df['S7Volt'] > 100]\n",
    "\n",
    "#Sensor-8 Filtering\n",
    "S8SM_outer = df[df['S8SM'] > 100]\n",
    "S8Perm_outer = df[df['S8Perm'] > 100]\n",
    "S8Temp_outer = df[df['S8Temp'] > 100]\n",
    "S8Volt_outer = df[df['S8Volt'] > 100]\n",
    "\n",
    "#Sensor-9 Filtering\n",
    "S9SM_outer = df[df['S9SM'] > 100]\n",
    "S9Perm_outer = df[df['S9Perm'] > 100]\n",
    "S9Temp_outer = df[df['S9Temp'] > 100]\n",
    "S9Volt_outer = df[df['S9Volt'] > 100]\n",
    "\n",
    "#Sensor-10 Filtering\n",
    "S10SM_outer = df[df['S10SM'] > 100]\n",
    "S10Perm_outer = df[df['S10Perm'] > 100]\n",
    "S10Temp_outer = df[df['S10Temp'] > 100]\n",
    "S10Volt_outer = df[df['S10Volt'] > 100]\n",
    "\n",
    "#Printing the shape of the Outer for every columns\n",
    "print('######Shape of the outliers for different sensors######')\n",
    "print('Sensor-1:')\n",
    "print(\"Sensor-1(SM) :\",S1SM_outer.shape)\n",
    "print(\"Sensor-1(Perm) :\", S1Perm_outer.shape)\n",
    "print(\"Sensor-1(Temp) :\", S1Temp_outer.shape)\n",
    "print(\"Sensor-1(Volt) :\", S1Volt_outer.shape)\n",
    "print('\\n')\n",
    "\n",
    "#2nd\n",
    "print('Sensor-2:')\n",
    "print(\"Sensor-2(SM) :\",S2SM_outer.shape)\n",
    "print(\"Sensor-2(Perm) :\", S2Perm_outer.shape)\n",
    "print(\"Sensor-2(Temp) :\", S2Temp_outer.shape)\n",
    "print(\"Sensor-2(Volt) :\", S2Volt_outer.shape)\n",
    "print('\\n')\n",
    "\n",
    "#3rd\n",
    "print('Sensor-3:')\n",
    "print(\"Sensor-3(SM) :\",S3SM_outer.shape)\n",
    "print(\"Sensor-3(Perm) :\", S3Perm_outer.shape)\n",
    "print(\"Sensor-3(Temp) :\", S3Temp_outer.shape)\n",
    "print(\"Sensor-3(Volt) :\", S3Volt_outer.shape)\n",
    "print('\\n')\n",
    "\n",
    "#4th\n",
    "print('Sensor-4:')\n",
    "print(\"Sensor-4(SM) :\",S4SM_outer.shape)\n",
    "print(\"Sensor-4(Perm) :\", S4Perm_outer.shape)\n",
    "print(\"Sensor-4(Temp) :\", S4Temp_outer.shape)\n",
    "print(\"Sensor-4(Volt) :\", S4Volt_outer.shape)\n",
    "print('\\n')\n",
    "\n",
    "#5th\n",
    "print('Sensor-5:')\n",
    "print(\"Sensor-5(SM) :\",S5SM_outer.shape)\n",
    "print(\"Sensor-5(Perm) :\", S5Perm_outer.shape)\n",
    "print(\"Sensor-5(Temp) :\", S5Temp_outer.shape)\n",
    "print(\"Sensor-5(Volt) :\", S5Volt_outer.shape)\n",
    "print('\\n')\n",
    "\n",
    "#6th\n",
    "print('Sensor-6:')\n",
    "print(\"Sensor-6(SM) :\",S6SM_outer.shape)\n",
    "print(\"Sensor-6(Perm) :\", S6Perm_outer.shape)\n",
    "print(\"Sensor-6(Temp) :\", S6Temp_outer.shape)\n",
    "print(\"Sensor-6(Volt) :\", S6Volt_outer.shape)\n",
    "print('\\n')\n",
    "\n",
    "#7th\n",
    "print('Sensor-7:')\n",
    "print(\"Sensor-7(SM) :\",S7SM_outer.shape)\n",
    "print(\"Sensor-7(Perm) :\", S7Perm_outer.shape)\n",
    "print(\"Sensor-7(Temp) :\", S7Temp_outer.shape)\n",
    "print(\"Sensor-7(Volt) :\", S7Volt_outer.shape)\n",
    "print('\\n')\n",
    "\n",
    "#8th\n",
    "print('Sensor-8:')\n",
    "print(\"Sensor-8(SM) :\",S8SM_outer.shape)\n",
    "print(\"Sensor-8(Perm) :\", S8Perm_outer.shape)\n",
    "print(\"Sensor-8(Temp) :\", S8Temp_outer.shape)\n",
    "print(\"Sensor-8(Volt) :\", S8Volt_outer.shape)\n",
    "print('\\n')\n",
    "\n",
    "#9th\n",
    "print('Sensor-9:')\n",
    "print(\"Sensor-9(SM) :\",S9SM_outer.shape)\n",
    "print(\"Sensor-9(Perm) :\", S9Perm_outer.shape)\n",
    "print(\"Sensor-9(Temp) :\", S9Temp_outer.shape)\n",
    "print(\"Sensor-9(Volt) :\", S9Volt_outer.shape)\n",
    "print('\\n')\n",
    "\n",
    "#10th\n",
    "print('Sensor-10:')\n",
    "print(\"Sensor-10(SM) :\",S10SM_outer.shape)\n",
    "print(\"Sensor-10(Perm) :\", S10Perm_outer.shape)\n",
    "print(\"Sensor-10(Temp) :\", S10Temp_outer.shape)\n",
    "print(\"Sensor-10(Volt) :\", S10Volt_outer.shape)\n",
    "print('\\n')\n",
    "print('##### Done ! ! ! #####')"
   ]
  },
  {
   "cell_type": "code",
   "execution_count": 386,
   "metadata": {},
   "outputs": [
    {
     "data": {
      "text/plain": [
       "(105,)"
      ]
     },
     "execution_count": 386,
     "metadata": {},
     "output_type": "execute_result"
    }
   ],
   "source": [
    "ind_todrop = df[(df['S1SM'] >100) | (df['S1Perm'] >100) | (df['S1Temp'] >100) |\n",
    "                (df['S1Volt'] >100) | (df['S2SM'] >100) | (df['S2Perm'] >100) | (df['S2Temp'] >100)|\n",
    "                (df['S2Volt'] >100) | (df['S2SM'] >100) | (df['S3Perm'] >100) | (df['S3Temp'] >100)|\n",
    "                (df['S3Volt'] >100) | (df['S4SM'] >100) | (df['S4Perm'] >100) | (df['S4Temp'] >100)|\n",
    "                (df['S4Volt'] >100) | (df['S5SM'] >100) | (df['S5Perm'] >100) | (df['S5Temp'] >100)|\n",
    "                (df['S5Volt'] >100) | (df['S6SM'] >100) | (df['S6Perm'] >100) | (df['S6Temp'] >100)|\n",
    "                (df['S6Volt'] >100) | (df['S7SM'] >100) | (df['S7Perm'] >100) | (df['S7Temp'] >100)|\n",
    "                (df['S7Volt'] >100) | (df['S8SM'] >100) | (df['S8Perm'] >100) | (df['S8Temp'] >100)|\n",
    "                (df['S8Volt'] >100) | (df['S9SM'] >100) | (df['S9Perm'] >100) | (df['S9Temp'] >100)|\n",
    "                (df['S9Volt'] >100) | (df['S10SM'] >100) | (df['S10Perm'] >100) | (df['S10Temp'] >100)|\n",
    "                (df['S10Volt'] >100)].index\n",
    "ind_todrop.shape"
   ]
  },
  {
   "cell_type": "code",
   "execution_count": 387,
   "metadata": {},
   "outputs": [],
   "source": [
    "#1st\n",
    "#S1SM_outer['S1counts'] = S1SM_outer['S1SM'].shift(-1, axis = 1)\n",
    "#S1Perm_outer['S1Perm'].shift(-2, axis = 1)\n",
    "#S1Temp_outer['S1Temp'].shift(-3, axis = 1)\n",
    "#S1Volt_outer['S1Volt'].shift(-4, axis = 1)\n",
    "\n",
    "#2nd\n",
    "#S2SM_outer.shift(-1, axis = 1)\n",
    "#S2Perm_outer.shift(-2, axis = 1)\n",
    "#S2Temp_outer.shift(-3, axis = 1)\n",
    "#S2Volt_outer.shift(-4, axis = 1)\n",
    "\n",
    "#3rd\n",
    "#S3SM_outer.shift(-1, axis = 1)\n",
    "#S3Perm_outer.shift(-2, axis = 1)\n",
    "#S3Temp_outer.shift(-3, axis = 1)\n",
    "#S3Volt_outer.shift(-4, axis = 1)\n",
    "\n",
    "#4th\n",
    "#S4SM_outer.shift(-1, axis = 1)\n",
    "#S4Perm_outer.shift(-2, axis = 1)\n",
    "#S4Temp_outer.shift(-3, axis = 1)\n",
    "#S4Volt_outer.shift(-4, axis = 1)\n",
    "\n",
    "#5th\n",
    "#S5SM_outer.shift(-1, axis = 1)\n",
    "#S5Perm_outer.shift(-2, axis = 1)\n",
    "#S5Temp_outer.shift(-3, axis = 1)\n",
    "#S5Volt_outer.shift(-4, axis = 1)\n",
    "\n",
    "#6th\n",
    "#S6SM_outer.shift(-1, axis = 1)\n",
    "#S6Perm_outer.shift(-2, axis = 1)\n",
    "#S6Temp_outer.shift(-3, axis = 1)\n",
    "#S6Volt_outer.shift(-4, axis = 1)\n",
    "\n",
    "#7th\n",
    "#S7SM_outer.shift(-1, axis = 1)\n",
    "#S7Perm_outer.shift(-2, axis = 1)\n",
    "#S7Temp_outer.shift(-3, axis = 1)\n",
    "#S7Volt_outer.shift(-4, axis = 1)\n",
    "\n",
    "#8th\n",
    "#S8SM_outer.shift(-1, axis = 1)\n",
    "#S8Perm_outer.shift(-2, axis = 1)\n",
    "#S8Temp_outer.shift(-3, axis = 1)\n",
    "#S8Volt_outer.shift(-4, axis = 1)\n",
    "\n",
    "#9th\n",
    "#S9SM_outer.shift(-1, axis = 1)\n",
    "#S9Perm_outer.shift(-2, axis = 1)\n",
    "#S9Temp_outer.shift(-3, axis = 1)\n",
    "#S9Volt_outer.shift(-4, axis = 1)\n",
    "\n",
    "#10th\n",
    "#S10SM_outer.shift(-1, axis = 1)\n",
    "#S10Perm_outer.shift(-2, axis = 1)\n",
    "#S10Temp_outer.shift(-3, axis = 1)\n",
    "#S10Volt_outer.shift(-4, axis = 1)"
   ]
  },
  {
   "cell_type": "code",
   "execution_count": 388,
   "metadata": {},
   "outputs": [],
   "source": [
    "#S1SM_outer['S1SM'].shift(-1, axis = 1)"
   ]
  },
  {
   "cell_type": "code",
   "execution_count": 403,
   "metadata": {},
   "outputs": [
    {
     "name": "stdout",
     "output_type": "stream",
     "text": [
      "                     S1counts   S1SM  S1Perm  S1Temp  S1Volt  S2counts   S2SM  \\\n",
      "date                                                                            \n",
      "2020-03-13 05:18:08   12456.0  10.90   20.56  21.680   12.09   12490.0  10.10   \n",
      "2020-03-13 07:18:08   12459.0  10.89   20.54  21.492   12.11   12491.0  10.09   \n",
      "\n",
      "                     S2Perm  S2Temp  S2Volt  ...  S9counts  S9SM  S9Perm  \\\n",
      "date                                         ...                           \n",
      "2020-03-13 05:18:08   19.02  20.664   12.19  ...       NaN   NaN     NaN   \n",
      "2020-03-13 07:18:08   19.01  20.727   12.19  ...       NaN   NaN     NaN   \n",
      "\n",
      "                     S9Temp  S9Volt  S10counts  S10SM  S10Perm  S10Temp  \\\n",
      "date                                                                      \n",
      "2020-03-13 05:18:08     NaN     NaN        NaN    NaN      NaN      NaN   \n",
      "2020-03-13 07:18:08     NaN     NaN        NaN    NaN      NaN      NaN   \n",
      "\n",
      "                     S10Volt  \n",
      "date                          \n",
      "2020-03-13 05:18:08      NaN  \n",
      "2020-03-13 07:18:08      NaN  \n",
      "\n",
      "[2 rows x 50 columns]\n",
      "                     S1counts   S1SM  S1Perm  S1Temp  S1Volt  S2counts  S2SM  \\\n",
      "date                                                                           \n",
      "2020-03-13 07:48:08   12491.0  10.09   19.01  20.711   12.22   14015.0  5.61   \n",
      "2020-03-13 07:58:08   12490.0  10.10   19.02  20.750   12.22   14016.0  5.61   \n",
      "\n",
      "                     S2Perm  S2Temp  S2Volt  ...  S9counts  S9SM  S9Perm  \\\n",
      "date                                         ...                           \n",
      "2020-03-13 07:48:08    9.42  20.336   11.96  ...       NaN   NaN     NaN   \n",
      "2020-03-13 07:58:08    9.42  20.320   11.96  ...       NaN   NaN     NaN   \n",
      "\n",
      "                     S9Temp  S9Volt  S10counts  S10SM  S10Perm  S10Temp  \\\n",
      "date                                                                      \n",
      "2020-03-13 07:48:08     NaN     NaN        NaN    NaN      NaN      NaN   \n",
      "2020-03-13 07:58:08     NaN     NaN        NaN    NaN      NaN      NaN   \n",
      "\n",
      "                     S10Volt  \n",
      "date                          \n",
      "2020-03-13 07:48:08      NaN  \n",
      "2020-03-13 07:58:08      NaN  \n",
      "\n",
      "[2 rows x 50 columns]\n",
      "                     S1counts  S1SM  S1Perm  S1Temp  S1Volt  S2counts  S2SM  \\\n",
      "date                                                                          \n",
      "2020-03-13 15:18:08   14015.0  5.61    9.42  20.367   11.96       NaN   NaN   \n",
      "2020-03-13 15:38:08   14016.0  5.61    9.42  20.359   11.96       NaN   NaN   \n",
      "\n",
      "                     S2Perm  S2Temp  S2Volt  ...  S9counts  S9SM  S9Perm  \\\n",
      "date                                         ...                           \n",
      "2020-03-13 15:18:08     NaN     NaN     NaN  ...       NaN   NaN     NaN   \n",
      "2020-03-13 15:38:08     NaN     NaN     NaN  ...       NaN   NaN     NaN   \n",
      "\n",
      "                     S9Temp  S9Volt  S10counts  S10SM  S10Perm  S10Temp  \\\n",
      "date                                                                      \n",
      "2020-03-13 15:18:08     NaN     NaN        NaN    NaN      NaN      NaN   \n",
      "2020-03-13 15:38:08     NaN     NaN        NaN    NaN      NaN      NaN   \n",
      "\n",
      "                     S10Volt  \n",
      "date                          \n",
      "2020-03-13 15:18:08      NaN  \n",
      "2020-03-13 15:38:08      NaN  \n",
      "\n",
      "[2 rows x 50 columns]\n",
      "Empty DataFrame\n",
      "Columns: [S1counts, S1SM, S1Perm, S1Temp, S1Volt, S2counts, S2SM, S2Perm, S2Temp, S2Volt, S3counts, S3SM, S3Perm, S3Temp, S3Volt, S4counts, S4SM, S4Perm, S4Temp, S4Volt, S5counts, S5SM, S5Perm, S5Temp, S5Volt, S6counts, S6SM, S6Perm, S6Temp, S6Volt, S7counts, S7SM, S7Perm, S7Temp, S7Volt, S8counts, S8SM, S8Perm, S8Temp, S8Volt, S9counts, S9SM, S9Perm, S9Temp, S9Volt, S10counts, S10SM, S10Perm, S10Temp, S10Volt]\n",
      "Index: []\n",
      "\n",
      "[0 rows x 50 columns]\n"
     ]
    }
   ],
   "source": [
    "#1st\n",
    "S1SM_cleaned = df[df['S1SM'] > 100].shift(-1, axis = 1)\n",
    "S1Perm_cleaned = df[df['S1Perm'] > 100].shift(-2, axis = 1)\n",
    "S1Temp_cleaned = df[df['S1Temp'] > 100].shift(-3, axis = 1)\n",
    "S1Volt_cleaned = df[df['S1Volt'] > 100].shift(-4, axis = 1)\n",
    "#2nd\n",
    "S2SM_cleaned = df[df['S1SM'] > 100].shift(-1, axis = 1)\n",
    "S2Perm_cleaned = df[df['S1Perm'] > 100].shift(-2, axis = 1)\n",
    "S2Temp_cleaned = df[df['S1Temp'] > 100].shift(-3, axis = 1)\n",
    "S2Volt_cleaned = df[df['S1Volt'] > 100].shift(-4, axis = 1)"
   ]
  },
  {
   "cell_type": "code",
   "execution_count": null,
   "metadata": {},
   "outputs": [],
   "source": []
  },
  {
   "cell_type": "code",
   "execution_count": 389,
   "metadata": {},
   "outputs": [
    {
     "data": {
      "text/plain": [
       "(2627, 50)"
      ]
     },
     "execution_count": 389,
     "metadata": {},
     "output_type": "execute_result"
    }
   ],
   "source": [
    "#df.dropna(thresh = 5, inplace = True)\n",
    "df.shape"
   ]
  },
  {
   "cell_type": "code",
   "execution_count": 390,
   "metadata": {},
   "outputs": [],
   "source": [
    "#ind_todrop = cleaned_df[(cleaned_df['S1SM'] >100) | (cleaned_df['S1Perm'] >100) | (cleaned_df['S1Temp'] >100)|\n",
    "#                        (cleaned_df['S1Volt'] >100)].index"
   ]
  },
  {
   "cell_type": "code",
   "execution_count": 391,
   "metadata": {},
   "outputs": [],
   "source": [
    "#df.drop(ind_todrop, inplace = True, axis = 0)\n",
    "#print(df.shape)"
   ]
  },
  {
   "cell_type": "code",
   "execution_count": 393,
   "metadata": {},
   "outputs": [],
   "source": [
    "# def function to filter rows of multiple columns\n",
    "def f(row):\n",
    "    if row['S1SM'] > 100:\n",
    "        df['S1SM'].shift(-1, axis = 1)\n",
    "    elif row['S1Perm'] > 100:\n",
    "        df['S1Perm'].shift(-2, axis = 1)\n",
    "    elif row['S1Temp'] > 100:\n",
    "        df['S1Temp'].shift(-3, axis = 1)\n",
    "    elif row['S1Volt'] > 100:\n",
    "        df['S1Volt'].shift(-4, axis = 1)\n",
    "    elif row['S2SM'] > 100:\n",
    "        df['S2SM'].shift(-1, axis = 1)\n",
    "    elif row['S1Perm'] > 100:\n",
    "        df['S2Perm'].shift(-2, axis = 1)\n",
    "    elif row['S2Temp'] > 100:\n",
    "        df['S2Temp'].shift(-3, axis = 1)\n",
    "    elif row['S1Volt'] > 100:\n",
    "        df['S2Volt'].shift(-4, axis = 1)\n",
    "    elif row['S3SM'] > 100:\n",
    "        df['S3SM'].shift(-1, axis = 1)\n",
    "    elif row['S3Perm'] > 100:\n",
    "        df['S3Perm'].shift(-2, axis = 1)\n",
    "    elif row['S3Temp'] > 100:\n",
    "        df['S3Temp'].shift(-3, axis = 1)\n",
    "    elif row['S3Volt'] > 100:\n",
    "        df['S3Volt'].shift(-4, axis = 1)\n",
    "    elif row['S4SM'] > 100:\n",
    "        df['S4SM'].shift(-1, axis = 1)\n",
    "    elif row['S3Perm'] > 100:\n",
    "        df['S4Perm'].shift(-2, axis = 1)\n",
    "    elif row['S4Temp'] > 100:\n",
    "        df['S4Temp'].shift(-3, axis = 1)\n",
    "    elif row['S4Volt'] > 100:\n",
    "        df['S4Volt'].shift(-4, axis = 1)\n",
    "    elif row['S5SM'] > 100:\n",
    "        df['S5SM'].shift(-1, axis = 1)\n",
    "    elif row['S5Perm'] > 100:\n",
    "        df['S5Perm'].shift(-2, axis = 1)\n",
    "    elif row['S5Temp'] > 100:\n",
    "        df['S5Temp'].shift(-3, axis = 1)\n",
    "    elif row['S5Volt'] > 100:\n",
    "        df['S5Volt'].shift(-4, axis = 1)\n",
    "    elif row['S6SM'] > 100:\n",
    "        df['S6SM'].shift(-1, axis = 1)\n",
    "    elif row['S6Perm'] > 100:\n",
    "        df['S6Perm'].shift(-2, axis = 1)\n",
    "    elif row['S6Temp'] > 100:\n",
    "        df['S6Temp'].shift(-3, axis = 1)\n",
    "    elif row['S6Volt'] > 100:\n",
    "        df['S6Volt'].shift(-4, axis = 1)\n",
    "    elif row['S7SM'] > 100:\n",
    "        df['S7SM'].shift(-1, axis = 1)\n",
    "    elif row['S3Perm'] > 100:\n",
    "        df['S7Perm'].shift(-2, axis = 1)\n",
    "    elif row['S7Temp'] > 100:\n",
    "        df['S7Temp'].shift(-3, axis = 1)\n",
    "    elif row['S7Volt'] > 100:\n",
    "        df['S7Volt'].shift(-4, axis = 1)\n",
    "    elif row['S8SM'] > 100:\n",
    "        df['S8SM'].shift(-1, axis = 1)\n",
    "    elif row['S8Perm'] > 100:\n",
    "        df['S8Perm'].shift(-2, axis = 1)\n",
    "    elif row['S8Temp'] > 100:\n",
    "        df['S8Temp'].shift(-3, axis = 1)\n",
    "    elif row['S8Volt'] > 100:\n",
    "        df['S8Volt'].shift(-4, axis = 1)\n",
    "    elif row['S9SM'] > 100:\n",
    "        df['S9SM'].shift(-1, axis = 1)\n",
    "    elif row['S9Perm'] > 100:\n",
    "        df['S9Perm'].shift(-2, axis = 1)\n",
    "    elif row['S9Temp'] > 100:\n",
    "        df['S9Temp'].shift(-3, axis = 1)\n",
    "    elif row['S9Volt'] > 100:\n",
    "        df['S9Volt'].shift(-4, axis = 1)\n",
    "    elif row['S10SM'] > 100:\n",
    "        df['S10SM'].shift(-1, axis = 1)\n",
    "    elif row['S10Perm'] > 100:\n",
    "        df['S10Perm'].shift(-2, axis = 1)\n",
    "    elif row['S10Temp'] > 100:\n",
    "        df['S10Temp'].shift(-3, axis = 1)\n",
    "    elif row['S10Volt'] > 100:\n",
    "        df['S10Volt'].shift(-4, axis = 1)\n",
    "    else:\n",
    "        df == df\n",
    "    return row\n",
    "\n",
    "#using apply method to run the defination function to entire dataframe\n",
    "#df.apply(f, axis = 0)"
   ]
  },
  {
   "cell_type": "code",
   "execution_count": null,
   "metadata": {},
   "outputs": [],
   "source": [
    "#cleaned_df = df.append([S1SM_outer, S1Perm_outer, S1Temp_outer, S1Volt_outer, S2SM_outer, S2Perm_outer, S2Temp_outer, S2Volt_outer,\n",
    "#                       S3SM_outer, S3Perm_outer, S3Temp_outer, S3Volt_outer, S4SM_outer, S4Perm_outer, S4Temp_outer, S4Volt_outer, \n",
    "#                       S5SM_outer, S5Perm_outer, S5Temp_outer, S5Volt_outer, S6SM_outer, S6Perm_outer, S6Temp_outer, S6Volt_outer, \n",
    "#                       S7SM_outer, S7Perm_outer, S7Temp_outer, S7Volt_outer, S8SM_outer, S8Perm_outer, S8Temp_outer, S8Volt_outer, \n",
    "#                       S9SM_outer, S9Perm_outer, S9Temp_outer, S9Volt_outer, S10SM_outer, S10Perm_outer, S10Temp_outer, S10Volt_outer])\n",
    "#cleaned_df = cleaned_df.drop_duplicates()\n",
    "#cleaned_df = cleaned_df.sort_index()"
   ]
  },
  {
   "cell_type": "code",
   "execution_count": null,
   "metadata": {},
   "outputs": [],
   "source": [
    "df.index.value_counts()"
   ]
  },
  {
   "cell_type": "code",
   "execution_count": null,
   "metadata": {},
   "outputs": [],
   "source": [
    "plot.plot(df.index, df.S1SM);"
   ]
  },
  {
   "cell_type": "code",
   "execution_count": null,
   "metadata": {},
   "outputs": [],
   "source": [
    "#df.to_csv('check.csv', index = True)"
   ]
  },
  {
   "cell_type": "code",
   "execution_count": null,
   "metadata": {},
   "outputs": [],
   "source": [
    "plot.plot(df.index, df.S2SM);"
   ]
  },
  {
   "cell_type": "code",
   "execution_count": null,
   "metadata": {},
   "outputs": [],
   "source": []
  },
  {
   "cell_type": "code",
   "execution_count": null,
   "metadata": {},
   "outputs": [],
   "source": []
  },
  {
   "cell_type": "code",
   "execution_count": null,
   "metadata": {},
   "outputs": [],
   "source": []
  },
  {
   "cell_type": "code",
   "execution_count": null,
   "metadata": {},
   "outputs": [],
   "source": []
  },
  {
   "cell_type": "code",
   "execution_count": null,
   "metadata": {},
   "outputs": [],
   "source": [
    "#append to get the cleaned data\n",
    "#cleaned_df = cleaned_df.append(cleaned_SM)\n",
    "#cleaned_df = cleaned_df.append(cleaned_Perm)\n",
    "#cleaned_df = cleaned_df.append(cleaned_Temp)\n",
    "#cleaned_df = cleaned_df.append(cleaned_Volt)\n",
    "#cleaned_df = cleaned_df.sort_index()\n",
    "#cleaned_df.describe()"
   ]
  },
  {
   "cell_type": "code",
   "execution_count": null,
   "metadata": {},
   "outputs": [],
   "source": []
  },
  {
   "cell_type": "code",
   "execution_count": null,
   "metadata": {},
   "outputs": [],
   "source": [
    "#plot.figure(figsize = (20,5))\n",
    "#plot.plot(cleaned_df.index, cleaned_df.S1SM)\n",
    "#plot.xticks(rotation = 90);"
   ]
  },
  {
   "cell_type": "code",
   "execution_count": null,
   "metadata": {},
   "outputs": [],
   "source": [
    "#plot.figure(figsize = (20,5))\n",
    "#plot.plot(cleaned_df.index, cleaned_df.S2SM);"
   ]
  },
  {
   "cell_type": "code",
   "execution_count": null,
   "metadata": {},
   "outputs": [],
   "source": [
    "#plot.figure(figsize = (20,5))\n",
    "#plot.plot(cleaned_df.index, cleaned_df.S3SM);"
   ]
  },
  {
   "cell_type": "code",
   "execution_count": null,
   "metadata": {},
   "outputs": [],
   "source": [
    "#plot.figure(figsize = (20,5))\n",
    "#plot.plot(cleaned_df.index, cleaned_df.S4SM);"
   ]
  },
  {
   "cell_type": "code",
   "execution_count": null,
   "metadata": {},
   "outputs": [],
   "source": [
    "#plot.figure(figsize = (20,5))\n",
    "#plot.plot(cleaned_df.index, cleaned_df.S5SM);\n",
    "#plot.figure(figsize = (20,5))\n",
    "#plot.plot(cleaned_df.index, cleaned_df.S6SM);"
   ]
  },
  {
   "cell_type": "code",
   "execution_count": null,
   "metadata": {},
   "outputs": [],
   "source": []
  }
 ],
 "metadata": {
  "kernelspec": {
   "display_name": "Python 3",
   "language": "python",
   "name": "python3"
  },
  "language_info": {
   "codemirror_mode": {
    "name": "ipython",
    "version": 3
   },
   "file_extension": ".py",
   "mimetype": "text/x-python",
   "name": "python",
   "nbconvert_exporter": "python",
   "pygments_lexer": "ipython3",
   "version": "3.8.5"
  }
 },
 "nbformat": 4,
 "nbformat_minor": 4
}
